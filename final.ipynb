{
  "nbformat": 4,
  "nbformat_minor": 0,
  "metadata": {
    "colab": {
      "name": "final.ipynb",
      "provenance": [],
      "collapsed_sections": [],
      "authorship_tag": "ABX9TyO/kORcaSoSFtUUEdiTXIfu",
      "include_colab_link": true
    },
    "kernelspec": {
      "name": "python3",
      "display_name": "Python 3"
    }
  },
  "cells": [
    {
      "cell_type": "markdown",
      "metadata": {
        "id": "view-in-github",
        "colab_type": "text"
      },
      "source": [
        "<a href=\"https://colab.research.google.com/github/gpfer/projektR/blob/main/final.ipynb\" target=\"_parent\"><img src=\"https://colab.research.google.com/assets/colab-badge.svg\" alt=\"Open In Colab\"/></a>"
      ]
    },
    {
      "cell_type": "code",
      "metadata": {
        "id": "Ttju3A8iUQoY"
      },
      "source": [
        "import torch\n",
        "import torch.nn as nn\n",
        "import torchvision\n",
        "import torch.nn.functional as F\n",
        "import torch.optim as optim\n",
        "from torch.utils.data import TensorDataset, Dataset, DataLoader\n",
        "from torchvision import transforms"
      ],
      "execution_count": 39,
      "outputs": []
    },
    {
      "cell_type": "code",
      "metadata": {
        "colab": {
          "base_uri": "https://localhost:8080/"
        },
        "id": "Oj9vJ-hLjvR6",
        "outputId": "1a330eb3-0674-4beb-9316-cbca944deb61"
      },
      "source": [
        "from google.colab import drive\n",
        "drive.mount('/content/drive') "
      ],
      "execution_count": 40,
      "outputs": [
        {
          "output_type": "stream",
          "text": [
            "Drive already mounted at /content/drive; to attempt to forcibly remount, call drive.mount(\"/content/drive\", force_remount=True).\n"
          ],
          "name": "stdout"
        }
      ]
    },
    {
      "cell_type": "markdown",
      "metadata": {
        "id": "9diuEMlAp7Ko"
      },
      "source": [
        "Dohvati klase i ground truth"
      ]
    },
    {
      "cell_type": "code",
      "metadata": {
        "id": "GmHilsl8jxLE"
      },
      "source": [
        "import base64\n",
        "import requests\n",
        "\n",
        "labels_cls = \"https://raw.githubusercontent.com/gpfer/projektR/main/dataset/klasifikacija.csv\"\n",
        "labels_cls = requests.get(labels_cls)\n",
        "labels_cls = labels_cls.text\n",
        "\n",
        "labels_gt = \"https://raw.githubusercontent.com/gpfer/projektR/main/dataset/cube%2B_gt.txt\"\n",
        "labels_gt = requests.get(labels_gt)\n",
        "labels_gt = labels_gt.text"
      ],
      "execution_count": 41,
      "outputs": []
    },
    {
      "cell_type": "markdown",
      "metadata": {
        "id": "wggmxoKjqDTc"
      },
      "source": [
        "Obrada labela"
      ]
    },
    {
      "cell_type": "code",
      "metadata": {
        "colab": {
          "base_uri": "https://localhost:8080/"
        },
        "id": "Pgh8i274p5YO",
        "outputId": "ae9ac054-926b-455e-aae6-b4ea0244ae7b"
      },
      "source": [
        "import numpy as np\n",
        "import io\n",
        "\n",
        "labels_cls = labels_cls.split('\\n')\n",
        "\n",
        "nd = []\n",
        "for line in labels_cls[1:1708]:\n",
        "    line = line.split(',')\n",
        "    num = int(line[0])\n",
        "    val = line[1] + '-' + line[2]\n",
        "    if val.startswith('in'):\n",
        "        val = 'in'\n",
        "    nd.append([num, val])\n",
        "\n",
        "data = np.array(nd)\n",
        "\n",
        "cats = np.unique(data[:, 1])\n",
        "print(cats)\n",
        "new_data = []\n",
        "for d in data:\n",
        "  new_data.append(np.where(cats == d[1])[0][0])\n",
        "labels_cls = torch.LongTensor(new_data)\n",
        "labels_cls"
      ],
      "execution_count": 42,
      "outputs": [
        {
          "output_type": "stream",
          "text": [
            "['in' 'out-day' 'out-night']\n"
          ],
          "name": "stdout"
        },
        {
          "output_type": "execute_result",
          "data": {
            "text/plain": [
              "tensor([1, 1, 1,  ..., 2, 1, 1])"
            ]
          },
          "metadata": {
            "tags": []
          },
          "execution_count": 42
        }
      ]
    },
    {
      "cell_type": "code",
      "metadata": {
        "colab": {
          "base_uri": "https://localhost:8080/"
        },
        "id": "W9KRc1aZrGny",
        "outputId": "1233901e-a538-4718-d7ac-b083e920b17a"
      },
      "source": [
        "labels_gt = labels_gt.split('\\n')\n",
        "\n",
        "nd = []\n",
        "for line in labels_gt[:-1]:\n",
        "    gt = []\n",
        "    line = line.split(' ')\n",
        "    gt.append(float(line[0]))\n",
        "    gt.append(float(line[1]))\n",
        "    gt.append(float(line[2]))\n",
        "\n",
        "    nd.append(gt)\n",
        "\n",
        "labels_gt = torch.FloatTensor(nd)\n",
        "labels_gt"
      ],
      "execution_count": 43,
      "outputs": [
        {
          "output_type": "execute_result",
          "data": {
            "text/plain": [
              "tensor([[0.1624, 0.4533, 0.3844],\n",
              "        [0.2027, 0.4695, 0.3278],\n",
              "        [0.2040, 0.4714, 0.3246],\n",
              "        ...,\n",
              "        [0.4779, 0.4416, 0.0806],\n",
              "        [0.2037, 0.4708, 0.3254],\n",
              "        [0.3866, 0.4606, 0.1528]])"
            ]
          },
          "metadata": {
            "tags": []
          },
          "execution_count": 43
        }
      ]
    },
    {
      "cell_type": "markdown",
      "metadata": {
        "id": "ksTFQkXPs36q"
      },
      "source": [
        "Ucitavanje slika"
      ]
    },
    {
      "cell_type": "code",
      "metadata": {
        "colab": {
          "base_uri": "https://localhost:8080/"
        },
        "id": "41JSuBM5s0i5",
        "outputId": "d24de3da-2763-448c-8436-0b0c718dbe22"
      },
      "source": [
        "from PIL import Image\n",
        "\n",
        "root = \"/content/drive/My Drive/PNG\"\n",
        "\n",
        "train_images = []\n",
        "test_images = []\n",
        "\n",
        "for i in range(1, 1708):\n",
        "    name = str(i) + \".PNG\"\n",
        "    img = Image.open(root + '/' + name)\n",
        "    basewidth = 128\n",
        "    wpercent = (basewidth/float(img.size[0]))\n",
        "    hsize = int((float(img.size[1])*float(wpercent)))\n",
        "    img = img.resize((basewidth,hsize), Image.ANTIALIAS)\n",
        "    arr = transforms.ToTensor()(img)\n",
        "    arr = arr - 2048 / 65536\n",
        "    arr[arr<0] = 0\n",
        "    if i < int(0.8*1707):\n",
        "        train_images.append(arr)\n",
        "    else:\n",
        "        test_images.append(arr)\n",
        "print()\n",
        "train_images = torch.stack(train_images)\n",
        "test_images = torch.stack(test_images)\n",
        "train_images\n",
        "test_images"
      ],
      "execution_count": 44,
      "outputs": [
        {
          "output_type": "stream",
          "text": [
            "\n"
          ],
          "name": "stdout"
        },
        {
          "output_type": "execute_result",
          "data": {
            "text/plain": [
              "tensor([[[[9.0319e-02, 9.0319e-02, 9.0319e-02,  ..., 4.7181e-02,\n",
              "           5.1103e-02, 5.1103e-02],\n",
              "          [9.0319e-02, 9.0319e-02, 9.0319e-02,  ..., 4.7181e-02,\n",
              "           4.7181e-02, 5.1103e-02],\n",
              "          [9.0319e-02, 9.0319e-02, 9.0319e-02,  ..., 4.7181e-02,\n",
              "           4.7181e-02, 4.7181e-02],\n",
              "          ...,\n",
              "          [7.8554e-02, 7.8554e-02, 7.8554e-02,  ..., 1.2255e-04,\n",
              "           1.2255e-04, 1.2255e-04],\n",
              "          [8.2475e-02, 8.2475e-02, 8.2475e-02,  ..., 1.2255e-04,\n",
              "           1.2255e-04, 1.2255e-04],\n",
              "          [8.2475e-02, 8.2475e-02, 8.2475e-02,  ..., 1.2255e-04,\n",
              "           1.2255e-04, 4.0441e-03]],\n",
              "\n",
              "         [[1.0600e-01, 1.0600e-01, 1.0600e-01,  ..., 4.3260e-02,\n",
              "           4.3260e-02, 4.7181e-02],\n",
              "          [1.0600e-01, 1.0600e-01, 1.0600e-01,  ..., 4.3260e-02,\n",
              "           4.3260e-02, 4.3260e-02],\n",
              "          [1.0600e-01, 1.0600e-01, 1.0600e-01,  ..., 4.3260e-02,\n",
              "           4.3260e-02, 4.3260e-02],\n",
              "          ...,\n",
              "          [9.4240e-02, 9.4240e-02, 9.8162e-02,  ..., 1.2255e-04,\n",
              "           1.2255e-04, 1.2255e-04],\n",
              "          [9.4240e-02, 9.4240e-02, 9.8162e-02,  ..., 1.2255e-04,\n",
              "           4.0441e-03, 4.0441e-03],\n",
              "          [9.8162e-02, 9.8162e-02, 9.8162e-02,  ..., 1.2255e-04,\n",
              "           4.0441e-03, 4.0441e-03]],\n",
              "\n",
              "         [[3.5417e-02, 3.5417e-02, 3.5417e-02,  ..., 1.1887e-02,\n",
              "           1.1887e-02, 1.1887e-02],\n",
              "          [3.5417e-02, 3.5417e-02, 3.5417e-02,  ..., 1.1887e-02,\n",
              "           1.1887e-02, 1.1887e-02],\n",
              "          [3.5417e-02, 3.5417e-02, 3.5417e-02,  ..., 1.1887e-02,\n",
              "           1.1887e-02, 1.1887e-02],\n",
              "          ...,\n",
              "          [2.7574e-02, 2.7574e-02, 2.7574e-02,  ..., 1.2255e-04,\n",
              "           1.2255e-04, 1.2255e-04],\n",
              "          [2.7574e-02, 2.7574e-02, 2.7574e-02,  ..., 1.2255e-04,\n",
              "           1.2255e-04, 1.2255e-04],\n",
              "          [2.7574e-02, 2.7574e-02, 2.7574e-02,  ..., 1.2255e-04,\n",
              "           1.2255e-04, 1.2255e-04]]],\n",
              "\n",
              "\n",
              "        [[[4.0441e-03, 4.0441e-03, 7.9657e-03,  ..., 7.9657e-03,\n",
              "           7.9657e-03, 7.9657e-03],\n",
              "          [7.9657e-03, 7.9657e-03, 4.0441e-03,  ..., 7.9657e-03,\n",
              "           7.9657e-03, 7.9657e-03],\n",
              "          [7.9657e-03, 7.9657e-03, 4.0441e-03,  ..., 7.9657e-03,\n",
              "           7.9657e-03, 7.9657e-03],\n",
              "          ...,\n",
              "          [1.2255e-04, 1.2255e-04, 1.2255e-04,  ..., 1.5809e-02,\n",
              "           1.1887e-02, 1.1887e-02],\n",
              "          [4.0441e-03, 4.0441e-03, 4.0441e-03,  ..., 1.1887e-02,\n",
              "           1.1887e-02, 1.1887e-02],\n",
              "          [4.0441e-03, 4.0441e-03, 4.0441e-03,  ..., 1.1887e-02,\n",
              "           1.1887e-02, 7.9657e-03]],\n",
              "\n",
              "         [[1.1887e-02, 1.1887e-02, 1.1887e-02,  ..., 1.9730e-02,\n",
              "           1.9730e-02, 1.5809e-02],\n",
              "          [1.1887e-02, 1.5809e-02, 1.1887e-02,  ..., 1.9730e-02,\n",
              "           1.9730e-02, 1.5809e-02],\n",
              "          [1.1887e-02, 1.1887e-02, 1.1887e-02,  ..., 1.9730e-02,\n",
              "           1.5809e-02, 1.9730e-02],\n",
              "          ...,\n",
              "          [4.0441e-03, 4.0441e-03, 4.0441e-03,  ..., 2.7574e-02,\n",
              "           2.7574e-02, 2.7574e-02],\n",
              "          [7.9657e-03, 7.9657e-03, 1.1887e-02,  ..., 2.3652e-02,\n",
              "           1.9730e-02, 2.3652e-02],\n",
              "          [1.1887e-02, 1.5809e-02, 1.5809e-02,  ..., 2.3652e-02,\n",
              "           2.3652e-02, 1.9730e-02]],\n",
              "\n",
              "         [[7.9657e-03, 7.9657e-03, 7.9657e-03,  ..., 1.1887e-02,\n",
              "           1.1887e-02, 7.9657e-03],\n",
              "          [7.9657e-03, 7.9657e-03, 7.9657e-03,  ..., 1.1887e-02,\n",
              "           1.1887e-02, 7.9657e-03],\n",
              "          [7.9657e-03, 7.9657e-03, 7.9657e-03,  ..., 1.1887e-02,\n",
              "           1.1887e-02, 1.1887e-02],\n",
              "          ...,\n",
              "          [4.0441e-03, 4.0441e-03, 4.0441e-03,  ..., 1.5809e-02,\n",
              "           1.1887e-02, 1.5809e-02],\n",
              "          [4.0441e-03, 4.0441e-03, 7.9657e-03,  ..., 1.1887e-02,\n",
              "           1.1887e-02, 1.5809e-02],\n",
              "          [7.9657e-03, 7.9657e-03, 7.9657e-03,  ..., 1.1887e-02,\n",
              "           1.5809e-02, 1.1887e-02]]],\n",
              "\n",
              "\n",
              "        [[[5.8946e-02, 5.8946e-02, 5.8946e-02,  ..., 2.3652e-02,\n",
              "           2.3652e-02, 2.3652e-02],\n",
              "          [6.2868e-02, 6.2868e-02, 5.8946e-02,  ..., 2.3652e-02,\n",
              "           2.3652e-02, 2.3652e-02],\n",
              "          [6.2868e-02, 6.2868e-02, 6.2868e-02,  ..., 2.3652e-02,\n",
              "           2.3652e-02, 2.3652e-02],\n",
              "          ...,\n",
              "          [1.1887e-02, 1.1887e-02, 1.1887e-02,  ..., 4.0441e-03,\n",
              "           4.0441e-03, 4.0441e-03],\n",
              "          [1.1887e-02, 1.1887e-02, 1.1887e-02,  ..., 7.9657e-03,\n",
              "           7.9657e-03, 7.9657e-03],\n",
              "          [1.1887e-02, 1.1887e-02, 1.1887e-02,  ..., 7.9657e-03,\n",
              "           7.9657e-03, 7.9657e-03]],\n",
              "\n",
              "         [[1.4130e-01, 1.4130e-01, 1.4522e-01,  ..., 4.3260e-02,\n",
              "           4.7181e-02, 4.7181e-02],\n",
              "          [1.4522e-01, 1.4522e-01, 1.4522e-01,  ..., 4.7181e-02,\n",
              "           4.7181e-02, 4.7181e-02],\n",
              "          [1.5306e-01, 1.5306e-01, 1.4522e-01,  ..., 4.7181e-02,\n",
              "           4.7181e-02, 4.7181e-02],\n",
              "          ...,\n",
              "          [2.7574e-02, 2.7574e-02, 2.7574e-02,  ..., 1.1887e-02,\n",
              "           1.5809e-02, 1.5809e-02],\n",
              "          [2.7574e-02, 2.7574e-02, 2.7574e-02,  ..., 1.5809e-02,\n",
              "           1.5809e-02, 1.5809e-02],\n",
              "          [2.7574e-02, 2.7574e-02, 2.7574e-02,  ..., 1.5809e-02,\n",
              "           1.5809e-02, 1.5809e-02]],\n",
              "\n",
              "         [[1.0208e-01, 9.8162e-02, 9.8162e-02,  ..., 2.3652e-02,\n",
              "           2.3652e-02, 2.3652e-02],\n",
              "          [1.0208e-01, 9.8162e-02, 9.8162e-02,  ..., 2.3652e-02,\n",
              "           2.3652e-02, 2.3652e-02],\n",
              "          [1.0208e-01, 1.0600e-01, 1.0208e-01,  ..., 2.3652e-02,\n",
              "           2.3652e-02, 2.7574e-02],\n",
              "          ...,\n",
              "          [1.5809e-02, 1.5809e-02, 1.5809e-02,  ..., 4.0441e-03,\n",
              "           4.0441e-03, 4.0441e-03],\n",
              "          [1.5809e-02, 1.5809e-02, 1.5809e-02,  ..., 7.9657e-03,\n",
              "           7.9657e-03, 7.9657e-03],\n",
              "          [1.5809e-02, 1.5809e-02, 1.5809e-02,  ..., 7.9657e-03,\n",
              "           7.9657e-03, 7.9657e-03]]],\n",
              "\n",
              "\n",
              "        ...,\n",
              "\n",
              "\n",
              "        [[[1.5809e-02, 1.5809e-02, 1.5809e-02,  ..., 1.2255e-04,\n",
              "           1.2255e-04, 1.2255e-04],\n",
              "          [1.5809e-02, 1.5809e-02, 1.5809e-02,  ..., 4.0441e-03,\n",
              "           1.2255e-04, 1.2255e-04],\n",
              "          [1.5809e-02, 1.5809e-02, 1.5809e-02,  ..., 4.0441e-03,\n",
              "           1.2255e-04, 1.2255e-04],\n",
              "          ...,\n",
              "          [1.1887e-02, 1.1887e-02, 1.1887e-02,  ..., 7.9657e-03,\n",
              "           4.0441e-03, 4.0441e-03],\n",
              "          [1.1887e-02, 1.1887e-02, 1.1887e-02,  ..., 4.0441e-03,\n",
              "           4.0441e-03, 4.0441e-03],\n",
              "          [1.1887e-02, 1.1887e-02, 1.1887e-02,  ..., 4.0441e-03,\n",
              "           7.9657e-03, 4.0441e-03]],\n",
              "\n",
              "         [[1.5809e-02, 1.5809e-02, 1.5809e-02,  ..., 1.2255e-04,\n",
              "           1.2255e-04, 1.2255e-04],\n",
              "          [1.5809e-02, 1.5809e-02, 1.5809e-02,  ..., 4.0441e-03,\n",
              "           1.2255e-04, 1.2255e-04],\n",
              "          [1.5809e-02, 1.5809e-02, 1.5809e-02,  ..., 4.0441e-03,\n",
              "           1.2255e-04, 1.2255e-04],\n",
              "          ...,\n",
              "          [7.9657e-03, 7.9657e-03, 1.1887e-02,  ..., 4.0441e-03,\n",
              "           4.0441e-03, 4.0441e-03],\n",
              "          [7.9657e-03, 1.1887e-02, 1.1887e-02,  ..., 4.0441e-03,\n",
              "           4.0441e-03, 4.0441e-03],\n",
              "          [7.9657e-03, 7.9657e-03, 7.9657e-03,  ..., 4.0441e-03,\n",
              "           4.0441e-03, 4.0441e-03]],\n",
              "\n",
              "         [[1.2255e-04, 1.2255e-04, 1.2255e-04,  ..., 1.2255e-04,\n",
              "           1.2255e-04, 1.2255e-04],\n",
              "          [1.2255e-04, 1.2255e-04, 1.2255e-04,  ..., 1.2255e-04,\n",
              "           1.2255e-04, 1.2255e-04],\n",
              "          [1.2255e-04, 1.2255e-04, 1.2255e-04,  ..., 1.2255e-04,\n",
              "           1.2255e-04, 1.2255e-04],\n",
              "          ...,\n",
              "          [1.2255e-04, 1.2255e-04, 1.2255e-04,  ..., 1.2255e-04,\n",
              "           1.2255e-04, 1.2255e-04],\n",
              "          [1.2255e-04, 1.2255e-04, 1.2255e-04,  ..., 1.2255e-04,\n",
              "           1.2255e-04, 1.2255e-04],\n",
              "          [1.2255e-04, 1.2255e-04, 1.2255e-04,  ..., 1.2255e-04,\n",
              "           1.2255e-04, 1.2255e-04]]],\n",
              "\n",
              "\n",
              "        [[[4.7181e-02, 4.7181e-02, 4.7181e-02,  ..., 5.5025e-02,\n",
              "           5.5025e-02, 5.1103e-02],\n",
              "          [4.7181e-02, 4.7181e-02, 5.1103e-02,  ..., 5.5025e-02,\n",
              "           5.5025e-02, 5.5025e-02],\n",
              "          [5.1103e-02, 4.7181e-02, 5.1103e-02,  ..., 5.5025e-02,\n",
              "           5.5025e-02, 5.5025e-02],\n",
              "          ...,\n",
              "          [7.9657e-03, 7.9657e-03, 7.9657e-03,  ..., 1.1887e-02,\n",
              "           1.1887e-02, 7.9657e-03],\n",
              "          [4.0441e-03, 7.9657e-03, 4.0441e-03,  ..., 1.1887e-02,\n",
              "           1.1887e-02, 1.1887e-02],\n",
              "          [4.0441e-03, 4.0441e-03, 4.0441e-03,  ..., 7.9657e-03,\n",
              "           7.9657e-03, 1.1887e-02]],\n",
              "\n",
              "         [[1.1777e-01, 1.1777e-01, 1.1385e-01,  ..., 1.2561e-01,\n",
              "           1.2169e-01, 1.2169e-01],\n",
              "          [1.0993e-01, 1.1385e-01, 1.1777e-01,  ..., 1.2561e-01,\n",
              "           1.2561e-01, 1.2953e-01],\n",
              "          [1.1777e-01, 1.2169e-01, 1.2169e-01,  ..., 1.2169e-01,\n",
              "           1.2169e-01, 1.2169e-01],\n",
              "          ...,\n",
              "          [1.5809e-02, 1.5809e-02, 1.5809e-02,  ..., 1.9730e-02,\n",
              "           1.9730e-02, 1.9730e-02],\n",
              "          [1.1887e-02, 1.5809e-02, 1.1887e-02,  ..., 2.3652e-02,\n",
              "           2.3652e-02, 2.3652e-02],\n",
              "          [1.1887e-02, 1.1887e-02, 1.5809e-02,  ..., 1.9730e-02,\n",
              "           1.9730e-02, 2.3652e-02]],\n",
              "\n",
              "         [[8.2475e-02, 8.2475e-02, 7.8554e-02,  ..., 8.6397e-02,\n",
              "           8.2475e-02, 8.6397e-02],\n",
              "          [7.8554e-02, 7.8554e-02, 7.8554e-02,  ..., 8.6397e-02,\n",
              "           8.6397e-02, 9.0319e-02],\n",
              "          [8.2475e-02, 8.2475e-02, 8.2475e-02,  ..., 8.2475e-02,\n",
              "           8.6397e-02, 8.6397e-02],\n",
              "          ...,\n",
              "          [7.9657e-03, 7.9657e-03, 7.9657e-03,  ..., 7.9657e-03,\n",
              "           7.9657e-03, 7.9657e-03],\n",
              "          [7.9657e-03, 4.0441e-03, 4.0441e-03,  ..., 1.1887e-02,\n",
              "           1.1887e-02, 1.1887e-02],\n",
              "          [7.9657e-03, 7.9657e-03, 7.9657e-03,  ..., 1.1887e-02,\n",
              "           1.1887e-02, 1.1887e-02]]],\n",
              "\n",
              "\n",
              "        [[[3.9338e-02, 3.9338e-02, 3.9338e-02,  ..., 3.1495e-02,\n",
              "           3.1495e-02, 3.1495e-02],\n",
              "          [3.9338e-02, 3.9338e-02, 3.9338e-02,  ..., 3.1495e-02,\n",
              "           3.1495e-02, 3.1495e-02],\n",
              "          [3.9338e-02, 3.9338e-02, 3.9338e-02,  ..., 3.1495e-02,\n",
              "           3.1495e-02, 3.1495e-02],\n",
              "          ...,\n",
              "          [4.3260e-02, 4.3260e-02, 4.3260e-02,  ..., 2.7574e-02,\n",
              "           2.7574e-02, 2.7574e-02],\n",
              "          [4.3260e-02, 4.3260e-02, 4.3260e-02,  ..., 2.7574e-02,\n",
              "           2.7574e-02, 2.7574e-02],\n",
              "          [4.3260e-02, 4.3260e-02, 4.3260e-02,  ..., 2.7574e-02,\n",
              "           2.7574e-02, 2.7574e-02]],\n",
              "\n",
              "         [[4.7181e-02, 4.7181e-02, 4.7181e-02,  ..., 3.5417e-02,\n",
              "           3.9338e-02, 3.9338e-02],\n",
              "          [4.7181e-02, 4.7181e-02, 4.7181e-02,  ..., 3.9338e-02,\n",
              "           3.9338e-02, 3.9338e-02],\n",
              "          [4.7181e-02, 4.7181e-02, 4.7181e-02,  ..., 3.9338e-02,\n",
              "           3.9338e-02, 3.9338e-02],\n",
              "          ...,\n",
              "          [5.1103e-02, 5.1103e-02, 5.1103e-02,  ..., 3.5417e-02,\n",
              "           3.5417e-02, 3.5417e-02],\n",
              "          [5.1103e-02, 5.1103e-02, 5.1103e-02,  ..., 3.5417e-02,\n",
              "           3.5417e-02, 3.5417e-02],\n",
              "          [5.1103e-02, 5.1103e-02, 5.1103e-02,  ..., 3.5417e-02,\n",
              "           3.5417e-02, 3.5417e-02]],\n",
              "\n",
              "         [[1.1887e-02, 1.1887e-02, 1.1887e-02,  ..., 1.1887e-02,\n",
              "           1.1887e-02, 1.1887e-02],\n",
              "          [1.1887e-02, 1.1887e-02, 1.1887e-02,  ..., 1.1887e-02,\n",
              "           1.1887e-02, 1.1887e-02],\n",
              "          [1.1887e-02, 1.1887e-02, 1.1887e-02,  ..., 1.1887e-02,\n",
              "           1.1887e-02, 1.1887e-02],\n",
              "          ...,\n",
              "          [1.5809e-02, 1.5809e-02, 1.5809e-02,  ..., 7.9657e-03,\n",
              "           1.1887e-02, 1.1887e-02],\n",
              "          [1.5809e-02, 1.5809e-02, 1.5809e-02,  ..., 7.9657e-03,\n",
              "           1.1887e-02, 7.9657e-03],\n",
              "          [1.5809e-02, 1.5809e-02, 1.5809e-02,  ..., 1.1887e-02,\n",
              "           1.1887e-02, 7.9657e-03]]]])"
            ]
          },
          "metadata": {
            "tags": []
          },
          "execution_count": 44
        }
      ]
    },
    {
      "cell_type": "code",
      "metadata": {
        "id": "dwxrTy63u5fe"
      },
      "source": [
        "train_labels_cls = labels_cls[:int(0.8*len(labels_cls))-1]\n",
        "test_labels_cls = labels_cls[int(0.8*len(labels_cls))-1:]\n",
        "\n",
        "train_labels_gt = labels_gt[:int(0.8*len(labels_gt))-1]\n",
        "test_labels_gt = labels_gt[int(0.8*len(labels_gt))-1:]"
      ],
      "execution_count": 45,
      "outputs": []
    },
    {
      "cell_type": "code",
      "metadata": {
        "id": "6wP9wR1nF5de"
      },
      "source": [
        "train_dataset_cls = TensorDataset(train_images, train_labels_cls)\n",
        "test_dataset_cls = TensorDataset(test_images, test_labels_cls)\n",
        "\n",
        "train_dataset_gt = TensorDataset(train_images, train_labels_gt)\n",
        "test_dataset_gt = TensorDataset(test_images, test_labels_gt)\n",
        "\n",
        "train_loader_cls = DataLoader(train_dataset_cls, batch_size=64, shuffle=True)\n",
        "test_loader_cls = DataLoader(test_dataset_cls, batch_size=64, shuffle=True)\n",
        "\n",
        "train_loader_gt = DataLoader(train_dataset_gt, batch_size=64, shuffle=True)\n",
        "test_loader_gt = DataLoader(test_dataset_gt, batch_size=64, shuffle=True)"
      ],
      "execution_count": 46,
      "outputs": []
    },
    {
      "cell_type": "markdown",
      "metadata": {
        "id": "UTvE9HPGL23g"
      },
      "source": [
        "# Teniranje klasifikatora"
      ]
    },
    {
      "cell_type": "markdown",
      "metadata": {
        "id": "8AzuPkQQMkDi"
      },
      "source": [
        "Keiranje modela za klasifikaciju"
      ]
    },
    {
      "cell_type": "code",
      "metadata": {
        "id": "rMAILbE3L61-"
      },
      "source": [
        "class Net(nn.Module):\n",
        "  def __init__(self):\n",
        "    super(Net, self).__init__()\n",
        "\n",
        "    self.conv1 = nn.Conv2d(3, 16, kernel_size=5)\n",
        "    self.conv2 = nn.Conv2d(16, 32, kernel_size=5)\n",
        "    self.conv3 = nn.Conv2d(32, 64, kernel_size=5)\n",
        "\n",
        "    self.fc1 = nn.Linear(5376, 800)\n",
        "    self.fc2 = nn.Linear(800, 400)\n",
        "    self.fc3 = nn.Linear(400, 100)\n",
        "    self.fc4 = nn.Linear(100, 3)\n",
        "\n",
        "    self.batch = nn.BatchNorm1d(800)\n",
        "    \n",
        "    self.maxpool = nn.MaxPool2d(kernel_size=2)\n",
        "    self.relu = nn.ReLU(inplace=True)\n",
        "\n",
        "  def forward(self, x):\n",
        "    x = self.conv1(x)\n",
        "    x = self.relu(x)\n",
        "    x = self.maxpool(x)\n",
        "\n",
        "    x = self.conv2(x)\n",
        "    x = self.relu(x)\n",
        "    x = self.maxpool(x)\n",
        "\n",
        "    x = self.conv3(x)\n",
        "    x = self.relu(x)\n",
        "    x = self.maxpool(x)\n",
        "\n",
        "    x = x.view(-1, 5376)\n",
        "    x = self.fc1(x)\n",
        "    x = self.relu(x)\n",
        "\n",
        "    x = self.batch(x)\n",
        "\n",
        "    x = self.fc2(x)\n",
        "    x = self.relu(x)\n",
        "\n",
        "    x = self.fc3(x)\n",
        "    x = self.relu(x)\n",
        "\n",
        "    x = self.fc4(x)\n",
        "    x = self.relu(x)\n",
        "\n",
        "    return F.log_softmax(x, dim=1)"
      ],
      "execution_count": 85,
      "outputs": []
    },
    {
      "cell_type": "code",
      "metadata": {
        "id": "tWv3nSVNMbP4"
      },
      "source": [
        "n_epochs = 10\n",
        "learning_rate = 0.00005\n",
        "device = 'cpu'"
      ],
      "execution_count": 86,
      "outputs": []
    },
    {
      "cell_type": "markdown",
      "metadata": {
        "id": "Vps8xKS9NaYJ"
      },
      "source": [
        "Funkcije za treniranje i evaluaciju klasifikacije"
      ]
    },
    {
      "cell_type": "code",
      "metadata": {
        "id": "WC8jUYrQMeNp"
      },
      "source": [
        "def train_step_cls(network, train_data, epoch, device):\n",
        "  losses = []\n",
        "  counter = []\n",
        "\n",
        "  network.train()\n",
        "  for idx, (data, target) in enumerate(train_data):\n",
        "    data = data.to(device)\n",
        "    target = target.to(device)\n",
        "\n",
        "    network.zero_grad()\n",
        "    output = network(data)\n",
        "    loss = F.nll_loss(output, target)\n",
        "    loss.backward()\n",
        "    optimizer.step()\n",
        "\n",
        "    if idx % 5 == 0:\n",
        "      print('Train Epoch: {:2d}, ({:2.0f}%), Loss: {:.5f}'.format(\n",
        "          epoch, 100*idx*64/len(train_data.dataset), loss\n",
        "      ))\n",
        "      losses.append(loss)\n",
        "      counter.append(idx*64 + (epoch-1)*len(train_data.dataset))\n",
        "\n",
        "  return losses, counter"
      ],
      "execution_count": 49,
      "outputs": []
    },
    {
      "cell_type": "code",
      "metadata": {
        "id": "j2DvA4jVNizt"
      },
      "source": [
        "def test_cls(network, test_data, device):\n",
        "  network.eval()\n",
        "\n",
        "  loss = 0\n",
        "  correct = 0\n",
        "  with torch.no_grad():\n",
        "    for data, target in test_data:\n",
        "      data = data.to(device)\n",
        "      target = target.to(device)\n",
        "\n",
        "      output = network(data)\n",
        "      loss += F.nll_loss(output, target, reduction=\"sum\").item()\n",
        "      prediction = output.data.max(1, keepdim=True)[1]\n",
        "      correct += prediction.eq(target.data.view_as(prediction)).sum()\n",
        "\n",
        "  loss /= len(test_data.dataset)\n",
        "  accuracy = 100 * correct / len(test_data.dataset)\n",
        "\n",
        "  print('\\nTest loss: {:.3f}, Accuracy: {:4d}/{:4d} ({:2.2f}%)'.format(\n",
        "      loss, correct, len(test_data.dataset), accuracy\n",
        "  ))\n",
        "\n",
        "  return loss, accuracy"
      ],
      "execution_count": 50,
      "outputs": []
    },
    {
      "cell_type": "code",
      "metadata": {
        "id": "CDtOZIrCNpRt"
      },
      "source": [
        "def train_cls(network, train_data, test_data, device='cuda'):\n",
        "  test_loss = []\n",
        "  test_acc = []\n",
        "  train_loss = []\n",
        "  counter = []\n",
        "\n",
        "  # testiramo pocetni model\n",
        "  loss_t, acc_t = test_cls(network, test_data, device)\n",
        "  test_loss.append(loss_t)\n",
        "  test_acc.append(acc_t)\n",
        "\n",
        "  for epoch in range(1, n_epochs+1):\n",
        "    # korak i test\n",
        "    loss, cnt = train_step_cls(network, train_data, epoch, device)\n",
        "    loss_t, acc_t = test_cls(network, test_data, device)\n",
        "\n",
        "    test_loss.append(loss_t)\n",
        "    test_acc.append(acc_t)\n",
        "    train_loss.append(loss)\n",
        "    counter.append(cnt)\n",
        "\n",
        "  return test_loss, test_acc, train_loss, counter"
      ],
      "execution_count": 51,
      "outputs": []
    },
    {
      "cell_type": "markdown",
      "metadata": {
        "id": "doPS5lbEOAIP"
      },
      "source": [
        "Treniranje modela"
      ]
    },
    {
      "cell_type": "code",
      "metadata": {
        "id": "CrnscwegOC2Q"
      },
      "source": [
        "klasifikacija = Net().to(device)\n",
        "optimizer = optim.Adam(klasifikacija.parameters(), lr=learning_rate)"
      ],
      "execution_count": 105,
      "outputs": []
    },
    {
      "cell_type": "code",
      "metadata": {
        "colab": {
          "base_uri": "https://localhost:8080/"
        },
        "id": "h_bd8k7mOM4C",
        "outputId": "f0a0aa00-615e-468a-8cfc-4fcf21783595"
      },
      "source": [
        "test_loss, test_acc, train_loss, counter = train_cls(klasifikacija, train_loader_cls, test_loader_cls, device)"
      ],
      "execution_count": 106,
      "outputs": [
        {
          "output_type": "stream",
          "text": [
            "\n",
            "Test loss: 1.112, Accuracy:   60/ 343 (17.49%)\n",
            "Train Epoch:  1, ( 0%), Loss: 1.10714\n",
            "Train Epoch:  1, (23%), Loss: 1.10332\n",
            "Train Epoch:  1, (47%), Loss: 1.09525\n",
            "Train Epoch:  1, (70%), Loss: 1.07984\n",
            "Train Epoch:  1, (94%), Loss: 1.02648\n",
            "\n",
            "Test loss: 1.109, Accuracy:   60/ 343 (17.49%)\n",
            "Train Epoch:  2, ( 0%), Loss: 1.00917\n",
            "Train Epoch:  2, (23%), Loss: 0.97381\n",
            "Train Epoch:  2, (47%), Loss: 0.92613\n",
            "Train Epoch:  2, (70%), Loss: 0.92887\n",
            "Train Epoch:  2, (94%), Loss: 0.88687\n",
            "\n",
            "Test loss: 1.061, Accuracy:  182/ 343 (53.06%)\n",
            "Train Epoch:  3, ( 0%), Loss: 0.82890\n",
            "Train Epoch:  3, (23%), Loss: 0.82020\n",
            "Train Epoch:  3, (47%), Loss: 0.78996\n",
            "Train Epoch:  3, (70%), Loss: 0.73484\n",
            "Train Epoch:  3, (94%), Loss: 0.70194\n",
            "\n",
            "Test loss: 0.920, Accuracy:  263/ 343 (76.68%)\n",
            "Train Epoch:  4, ( 0%), Loss: 0.66021\n",
            "Train Epoch:  4, (23%), Loss: 0.66643\n",
            "Train Epoch:  4, (47%), Loss: 0.57201\n",
            "Train Epoch:  4, (70%), Loss: 0.52239\n",
            "Train Epoch:  4, (94%), Loss: 0.46472\n",
            "\n",
            "Test loss: 0.671, Accuracy:  310/ 343 (90.38%)\n",
            "Train Epoch:  5, ( 0%), Loss: 0.44066\n",
            "Train Epoch:  5, (23%), Loss: 0.41781\n",
            "Train Epoch:  5, (47%), Loss: 0.45346\n",
            "Train Epoch:  5, (70%), Loss: 0.37180\n",
            "Train Epoch:  5, (94%), Loss: 0.27331\n",
            "\n",
            "Test loss: 0.351, Accuracy:  310/ 343 (90.38%)\n",
            "Train Epoch:  6, ( 0%), Loss: 0.26183\n",
            "Train Epoch:  6, (23%), Loss: 0.33679\n",
            "Train Epoch:  6, (47%), Loss: 0.42758\n",
            "Train Epoch:  6, (70%), Loss: 0.33076\n",
            "Train Epoch:  6, (94%), Loss: 0.17115\n",
            "\n",
            "Test loss: 0.267, Accuracy:  316/ 343 (92.13%)\n",
            "Train Epoch:  7, ( 0%), Loss: 0.24889\n",
            "Train Epoch:  7, (23%), Loss: 0.26804\n",
            "Train Epoch:  7, (47%), Loss: 0.27910\n",
            "Train Epoch:  7, (70%), Loss: 0.24317\n",
            "Train Epoch:  7, (94%), Loss: 0.26881\n",
            "\n",
            "Test loss: 0.323, Accuracy:  310/ 343 (90.38%)\n",
            "Train Epoch:  8, ( 0%), Loss: 0.21094\n",
            "Train Epoch:  8, (23%), Loss: 0.19061\n",
            "Train Epoch:  8, (47%), Loss: 0.26515\n",
            "Train Epoch:  8, (70%), Loss: 0.18822\n",
            "Train Epoch:  8, (94%), Loss: 0.24427\n",
            "\n",
            "Test loss: 0.187, Accuracy:  326/ 343 (95.04%)\n",
            "Train Epoch:  9, ( 0%), Loss: 0.11081\n",
            "Train Epoch:  9, (23%), Loss: 0.18753\n",
            "Train Epoch:  9, (47%), Loss: 0.14915\n",
            "Train Epoch:  9, (70%), Loss: 0.24009\n",
            "Train Epoch:  9, (94%), Loss: 0.17183\n",
            "\n",
            "Test loss: 0.172, Accuracy:  329/ 343 (95.92%)\n",
            "Train Epoch: 10, ( 0%), Loss: 0.09801\n",
            "Train Epoch: 10, (23%), Loss: 0.13614\n",
            "Train Epoch: 10, (47%), Loss: 0.08021\n",
            "Train Epoch: 10, (70%), Loss: 0.19927\n",
            "Train Epoch: 10, (94%), Loss: 0.16603\n",
            "\n",
            "Test loss: 0.150, Accuracy:  331/ 343 (96.50%)\n"
          ],
          "name": "stdout"
        }
      ]
    },
    {
      "cell_type": "code",
      "metadata": {
        "id": "kArPLVVQ7QZz"
      },
      "source": [
        "torch.save(klasifikacija.state_dict(), './klasifikacija.pth')"
      ],
      "execution_count": 107,
      "outputs": []
    },
    {
      "cell_type": "markdown",
      "metadata": {
        "id": "KYmoYHdpP0y9"
      },
      "source": [
        "Vizualizacija treninga"
      ]
    },
    {
      "cell_type": "code",
      "metadata": {
        "id": "zomBFYK2mJUS"
      },
      "source": [
        "import matplotlib.pyplot as plt\n",
        "\n",
        "counter = np.array(counter).flatten()\n",
        "train_loss = np.array(train_loss).flatten()\n"
      ],
      "execution_count": 108,
      "outputs": []
    },
    {
      "cell_type": "code",
      "metadata": {
        "colab": {
          "base_uri": "https://localhost:8080/",
          "height": 424
        },
        "id": "F4GbOxaJPzsx",
        "outputId": "209ab785-2229-4195-87c1-cc026fa16c48"
      },
      "source": [
        "plt.figure(figsize=(19, 6))\n",
        "\n",
        "plt.plot(counter, train_loss)\n",
        "\n",
        "plt.legend()\n",
        "plt.grid()\n",
        "plt.ylabel(\"Train loss\")\n",
        "plt.xlabel(\"Steps\")"
      ],
      "execution_count": 109,
      "outputs": [
        {
          "output_type": "stream",
          "text": [
            "No handles with labels found to put in legend.\n"
          ],
          "name": "stderr"
        },
        {
          "output_type": "execute_result",
          "data": {
            "text/plain": [
              "Text(0.5, 0, 'Steps')"
            ]
          },
          "metadata": {
            "tags": []
          },
          "execution_count": 109
        },
        {
          "output_type": "display_data",
          "data": {
            "image/png": "[encoded data removed]",
            "text/plain": [
              "<Figure size 1368x432 with 1 Axes>"
            ]
          },
          "metadata": {
            "tags": [],
            "needs_background": "light"
          }
        }
      ]
    },
    {
      "cell_type": "code",
      "metadata": {
        "colab": {
          "base_uri": "https://localhost:8080/",
          "height": 426
        },
        "id": "CBlIxJNm0U0c",
        "outputId": "274b1968-da14-497a-f887-fa0eb529297f"
      },
      "source": [
        "test_acc = np.array(test_acc).flatten()\n",
        "plt.figure(figsize=(19, 6))\n",
        "\n",
        "plt.plot(counter[1::5], test_acc[1:])\n",
        "\n",
        "plt.legend()\n",
        "plt.grid()\n",
        "plt.ylabel(\"Test accuracy\")\n",
        "plt.xlabel(\"Steps\")"
      ],
      "execution_count": 110,
      "outputs": [
        {
          "output_type": "stream",
          "text": [
            "No handles with labels found to put in legend.\n"
          ],
          "name": "stderr"
        },
        {
          "output_type": "execute_result",
          "data": {
            "text/plain": [
              "Text(0.5, 0, 'Steps')"
            ]
          },
          "metadata": {
            "tags": []
          },
          "execution_count": 110
        },
        {
          "output_type": "display_data",
          "data": {
            "image/png": "[encoded data removed]",
            "text/plain": [
              "<Figure size 1368x432 with 1 Axes>"
            ]
          },
          "metadata": {
            "tags": [],
            "needs_background": "light"
          }
        }
      ]
    },
    {
      "cell_type": "code",
      "metadata": {
        "colab": {
          "base_uri": "https://localhost:8080/"
        },
        "id": "7rrSnosewdFy",
        "outputId": "997db67d-ecd3-4973-f1e7-7ca994d6d361"
      },
      "source": [
        "confusion_matrix = torch.zeros(3, 3)\n",
        "with torch.no_grad():\n",
        "    for i, (inputs, classes) in enumerate(test_loader_cls):\n",
        "        inputs = inputs.to(device)\n",
        "        classes = classes.to(device)\n",
        "        outputs = klasifikacija(inputs)\n",
        "        _, preds = torch.max(outputs, 1)\n",
        "        for t, p in zip(classes.view(-1), preds.view(-1)):\n",
        "                confusion_matrix[t.long(), p.long()] += 1\n",
        "\n",
        "print(cats)\n",
        "print(confusion_matrix)"
      ],
      "execution_count": 111,
      "outputs": [
        {
          "output_type": "stream",
          "text": [
            "['in' 'out-day' 'out-night']\n",
            "tensor([[ 52.,   7.,   1.],\n",
            "        [  4., 270.,   0.],\n",
            "        [  0.,   0.,   9.]])\n"
          ],
          "name": "stdout"
        }
      ]
    },
    {
      "cell_type": "markdown",
      "metadata": {
        "id": "DSOsMhNq0Enm"
      },
      "source": [
        "# Procjena osvjetljenja"
      ]
    },
    {
      "cell_type": "markdown",
      "metadata": {
        "id": "ON7JR4yOvKoH"
      },
      "source": [
        "Kreiranje modela za procjenu osvjetljenja"
      ]
    },
    {
      "cell_type": "code",
      "metadata": {
        "id": "Pa9Tquvp0URW"
      },
      "source": [
        "class Net(nn.Module):\n",
        "  def __init__(self, klas):\n",
        "    super(Net, self).__init__()\n",
        "\n",
        "    self.klas = klas\n",
        "\n",
        "    self.conv1 = nn.Conv2d(3, 16, kernel_size=5)\n",
        "    self.conv2 = nn.Conv2d(16, 32, kernel_size=5)\n",
        "    self.conv3 = nn.Conv2d(32, 64, kernel_size=5)\n",
        "\n",
        "    self.fc1 = nn.Linear(5376, 800)\n",
        "    self.fc2 = nn.Linear(800, 400)\n",
        "    self.fc3 = nn.Linear(400, 50)\n",
        "    self.fc4 = nn.Linear(50 + 3, 3)\n",
        "\n",
        "    self.batch = nn.BatchNorm1d(800)\n",
        "    \n",
        "    self.maxpool = nn.MaxPool2d(kernel_size=2)\n",
        "    self.relu = nn.ReLU(inplace=True)\n",
        "\n",
        "  def forward(self, x):\n",
        "    self.klas.eval()\n",
        "    k = None\n",
        "    with torch.no_grad():\n",
        "        k = self.klas(x)\n",
        "\n",
        "    x = self.conv1(x)\n",
        "    x = self.relu(x)\n",
        "    x = self.maxpool(x)\n",
        "\n",
        "    x = self.conv2(x)\n",
        "    x = self.relu(x)\n",
        "    x = self.maxpool(x)\n",
        "\n",
        "    x = self.conv3(x)\n",
        "    x = self.relu(x)\n",
        "    x = self.maxpool(x)\n",
        "\n",
        "    x = x.view(-1, 5376)\n",
        "    x = self.fc1(x)\n",
        "    x = self.relu(x)\n",
        "\n",
        "    x = self.batch(x)\n",
        "\n",
        "    x = self.fc2(x)\n",
        "    x = self.relu(x)\n",
        "\n",
        "    x = self.fc3(x)\n",
        "    x = self.relu(x)\n",
        "\n",
        "    x1 = x.view(x.size(0), -1)\n",
        "    x2 = k.view(k.size(0), -1)\n",
        "    \n",
        "    x = torch.cat((x1, x2), dim=1)\n",
        "\n",
        "    x = self.fc4(x)\n",
        "    x = self.relu(x)\n",
        "\n",
        "    return x"
      ],
      "execution_count": 112,
      "outputs": []
    },
    {
      "cell_type": "code",
      "metadata": {
        "id": "R1vxyfMHwKVI"
      },
      "source": [
        "n_epochs = 10\n",
        "learning_rate = 0.00005\n",
        "device = 'cpu'"
      ],
      "execution_count": 113,
      "outputs": []
    },
    {
      "cell_type": "markdown",
      "metadata": {
        "id": "anUifIrpvP5p"
      },
      "source": [
        "Funkcije za treniranje"
      ]
    },
    {
      "cell_type": "code",
      "metadata": {
        "id": "PJHxHFu-vUiq"
      },
      "source": [
        "def train_step_gt(network, train_data, epoch, device):\n",
        "  losses = []\n",
        "  counter = []\n",
        "\n",
        "  network.train()\n",
        "  for idx, (data, target) in enumerate(train_data):\n",
        "    data = data.to(device)\n",
        "    target = target.to(device)\n",
        "\n",
        "    network.zero_grad()\n",
        "    output = network(data)\n",
        "    loss = F.mse_loss(output, target)\n",
        "    loss.backward()\n",
        "    optimizer.step()\n",
        "\n",
        "    if idx % 5 == 0:\n",
        "      print('Train Epoch: {:2d}, ({:2.0f}%), Loss: {:.5f}'.format(\n",
        "          epoch, 100*idx*64/len(train_data.dataset), loss\n",
        "      ))\n",
        "      losses.append(loss)\n",
        "      counter.append(idx*64 + (epoch-1)*len(train_data.dataset))\n",
        "\n",
        "  return losses, counter"
      ],
      "execution_count": 60,
      "outputs": []
    },
    {
      "cell_type": "code",
      "metadata": {
        "id": "yS3ZR8l8vfQL"
      },
      "source": [
        "def test_gt(network, test_data, device):\n",
        "  network.eval()\n",
        "\n",
        "  loss = 0\n",
        "  correct = 0\n",
        "  with torch.no_grad():\n",
        "    for data, target in test_data:\n",
        "      data = data.to(device)\n",
        "      target = target.to(device)\n",
        "\n",
        "      output = network(data)\n",
        "      loss += F.mse_loss(output, target, reduction=\"sum\").item()\n",
        "      prediction = output.data.max(1, keepdim=True)[1]\n",
        "\n",
        "  loss /= len(test_data.dataset)\n",
        "\n",
        "  print('\\nTest loss: {:.3f}'.format(\n",
        "      loss\n",
        "  ))\n",
        "\n",
        "  return loss"
      ],
      "execution_count": 61,
      "outputs": []
    },
    {
      "cell_type": "code",
      "metadata": {
        "id": "2ZcisoyXvyfp"
      },
      "source": [
        "def train_gt(network, train_data, test_data, device='cuda'):\n",
        "  test_loss = []\n",
        "  train_loss = []\n",
        "  counter = []\n",
        "\n",
        "  # testiramo pocetni model\n",
        "  loss_t = test_gt(network, test_data, device)\n",
        "  test_loss.append(loss_t)\n",
        "\n",
        "  for epoch in range(1, n_epochs+1):\n",
        "    # korak i test\n",
        "    loss, cnt = train_step_gt(network, train_data, epoch, device)\n",
        "    loss_t = test_gt(network, test_data, device)\n",
        "\n",
        "    test_loss.append(loss_t)\n",
        "    train_loss.append(loss)\n",
        "    counter.append(cnt)\n",
        "\n",
        "  return test_loss, train_loss, counter"
      ],
      "execution_count": 62,
      "outputs": []
    },
    {
      "cell_type": "code",
      "metadata": {
        "id": "86udQNUswEYF"
      },
      "source": [
        "procjena = Net(klasifikacija).to(device)\n",
        "optimizer = optim.Adam(procjena.parameters(), lr=learning_rate)"
      ],
      "execution_count": 114,
      "outputs": []
    },
    {
      "cell_type": "code",
      "metadata": {
        "colab": {
          "base_uri": "https://localhost:8080/"
        },
        "id": "WNyAYQmHwRqC",
        "outputId": "64034c52-9db9-4d95-aa38-3c20219880dd"
      },
      "source": [
        "test_loss, train_loss, counter = train_gt(procjena, train_loader_gt, test_loader_gt, device)"
      ],
      "execution_count": 115,
      "outputs": [
        {
          "output_type": "stream",
          "text": [
            "\n",
            "Test loss: 1.057\n",
            "Train Epoch:  1, ( 0%), Loss: 0.40996\n",
            "Train Epoch:  1, (23%), Loss: 0.35431\n",
            "Train Epoch:  1, (47%), Loss: 0.29128\n",
            "Train Epoch:  1, (70%), Loss: 0.22275\n",
            "Train Epoch:  1, (94%), Loss: 0.18221\n",
            "\n",
            "Test loss: 0.990\n",
            "Train Epoch:  2, ( 0%), Loss: 0.18753\n",
            "Train Epoch:  2, (23%), Loss: 0.12579\n",
            "Train Epoch:  2, (47%), Loss: 0.12256\n",
            "Train Epoch:  2, (70%), Loss: 0.10407\n",
            "Train Epoch:  2, (94%), Loss: 0.07703\n",
            "\n",
            "Test loss: 0.814\n",
            "Train Epoch:  3, ( 0%), Loss: 0.07462\n",
            "Train Epoch:  3, (23%), Loss: 0.06310\n",
            "Train Epoch:  3, (47%), Loss: 0.05517\n",
            "Train Epoch:  3, (70%), Loss: 0.06057\n",
            "Train Epoch:  3, (94%), Loss: 0.03518\n",
            "\n",
            "Test loss: 0.532\n",
            "Train Epoch:  4, ( 0%), Loss: 0.05760\n",
            "Train Epoch:  4, (23%), Loss: 0.05546\n",
            "Train Epoch:  4, (47%), Loss: 0.03337\n",
            "Train Epoch:  4, (70%), Loss: 0.02981\n",
            "Train Epoch:  4, (94%), Loss: 0.02362\n",
            "\n",
            "Test loss: 0.100\n",
            "Train Epoch:  5, ( 0%), Loss: 0.03047\n",
            "Train Epoch:  5, (23%), Loss: 0.02627\n",
            "Train Epoch:  5, (47%), Loss: 0.02797\n",
            "Train Epoch:  5, (70%), Loss: 0.02585\n",
            "Train Epoch:  5, (94%), Loss: 0.01531\n",
            "\n",
            "Test loss: 0.086\n",
            "Train Epoch:  6, ( 0%), Loss: 0.03050\n",
            "Train Epoch:  6, (23%), Loss: 0.03022\n",
            "Train Epoch:  6, (47%), Loss: 0.03065\n",
            "Train Epoch:  6, (70%), Loss: 0.01578\n",
            "Train Epoch:  6, (94%), Loss: 0.01773\n",
            "\n",
            "Test loss: 0.052\n",
            "Train Epoch:  7, ( 0%), Loss: 0.01881\n",
            "Train Epoch:  7, (23%), Loss: 0.03568\n",
            "Train Epoch:  7, (47%), Loss: 0.01571\n",
            "Train Epoch:  7, (70%), Loss: 0.01365\n",
            "Train Epoch:  7, (94%), Loss: 0.01641\n",
            "\n",
            "Test loss: 0.093\n",
            "Train Epoch:  8, ( 0%), Loss: 0.00858\n",
            "Train Epoch:  8, (23%), Loss: 0.01167\n",
            "Train Epoch:  8, (47%), Loss: 0.01391\n",
            "Train Epoch:  8, (70%), Loss: 0.01311\n",
            "Train Epoch:  8, (94%), Loss: 0.00926\n",
            "\n",
            "Test loss: 0.031\n",
            "Train Epoch:  9, ( 0%), Loss: 0.01084\n",
            "Train Epoch:  9, (23%), Loss: 0.00925\n",
            "Train Epoch:  9, (47%), Loss: 0.00863\n",
            "Train Epoch:  9, (70%), Loss: 0.01436\n",
            "Train Epoch:  9, (94%), Loss: 0.00658\n",
            "\n",
            "Test loss: 0.033\n",
            "Train Epoch: 10, ( 0%), Loss: 0.00678\n",
            "Train Epoch: 10, (23%), Loss: 0.01822\n",
            "Train Epoch: 10, (47%), Loss: 0.01751\n",
            "Train Epoch: 10, (70%), Loss: 0.01147\n",
            "Train Epoch: 10, (94%), Loss: 0.01931\n",
            "\n",
            "Test loss: 0.027\n"
          ],
          "name": "stdout"
        }
      ]
    },
    {
      "cell_type": "code",
      "metadata": {
        "id": "c-7s2vvd8wEk"
      },
      "source": [
        "torch.save(procjena.state_dict(), './procjena.pth')"
      ],
      "execution_count": 116,
      "outputs": []
    },
    {
      "cell_type": "code",
      "metadata": {
        "colab": {
          "base_uri": "https://localhost:8080/",
          "height": 424
        },
        "id": "mLVxDlNKwXwO",
        "outputId": "b5290729-db46-4588-8f40-4e5900535ab1"
      },
      "source": [
        "counter = np.array(counter).flatten()\n",
        "train_loss = np.array(train_loss).flatten()\n",
        "\n",
        "plt.figure(figsize=(19, 6))\n",
        "\n",
        "plt.plot(counter, train_loss)\n",
        "\n",
        "plt.legend()\n",
        "plt.grid()\n",
        "plt.ylabel(\"Train loss\")\n",
        "plt.xlabel(\"Steps\")"
      ],
      "execution_count": 117,
      "outputs": [
        {
          "output_type": "stream",
          "text": [
            "No handles with labels found to put in legend.\n"
          ],
          "name": "stderr"
        },
        {
          "output_type": "execute_result",
          "data": {
            "text/plain": [
              "Text(0.5, 0, 'Steps')"
            ]
          },
          "metadata": {
            "tags": []
          },
          "execution_count": 117
        },
        {
          "output_type": "display_data",
          "data": {
            "image/png": "[encoded data removed]",
            "text/plain": [
              "<Figure size 1368x432 with 1 Axes>"
            ]
          },
          "metadata": {
            "tags": [],
            "needs_background": "light"
          }
        }
      ]
    }
  ]
}