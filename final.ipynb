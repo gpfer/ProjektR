{
  "nbformat": 4,
  "nbformat_minor": 0,
  "metadata": {
    "colab": {
      "name": "final.ipynb",
      "provenance": [],
      "collapsed_sections": [],
      "authorship_tag": "ABX9TyMKiUwe+50bKUren+gvo32a",
      "include_colab_link": true
    },
    "kernelspec": {
      "name": "python3",
      "display_name": "Python 3"
    }
  },
  "cells": [
    {
      "cell_type": "markdown",
      "metadata": {
        "id": "view-in-github",
        "colab_type": "text"
      },
      "source": [
        "<a href=\"https://colab.research.google.com/github/gpfer/projektR/blob/main/final.ipynb\" target=\"_parent\"><img src=\"https://colab.research.google.com/assets/colab-badge.svg\" alt=\"Open In Colab\"/></a>"
      ]
    },
    {
      "cell_type": "code",
      "metadata": {
        "id": "Ttju3A8iUQoY"
      },
      "source": [
        "import torch\n",
        "import torch.nn as nn\n",
        "import torchvision\n",
        "import torch.nn.functional as F\n",
        "import torch.optim as optim\n",
        "from torch.utils.data import TensorDataset, Dataset, DataLoader\n",
        "from torchvision import transforms"
      ],
      "execution_count": 1,
      "outputs": []
    },
    {
      "cell_type": "code",
      "metadata": {
        "colab": {
          "base_uri": "https://localhost:8080/"
        },
        "id": "Oj9vJ-hLjvR6",
        "outputId": "6e667269-02e8-41c9-f0a1-1543b696bd31"
      },
      "source": [
        "from google.colab import drive\n",
        "drive.mount('/content/drive') "
      ],
      "execution_count": 2,
      "outputs": [
        {
          "output_type": "stream",
          "text": [
            "Mounted at /content/drive\n"
          ],
          "name": "stdout"
        }
      ]
    },
    {
      "cell_type": "markdown",
      "metadata": {
        "id": "9diuEMlAp7Ko"
      },
      "source": [
        "Dohvati klase i ground truth"
      ]
    },
    {
      "cell_type": "code",
      "metadata": {
        "id": "GmHilsl8jxLE"
      },
      "source": [
        "import base64\n",
        "import requests\n",
        "\n",
        "labels_cls = \"https://raw.githubusercontent.com/gpfer/projektR/main/dataset/klasifikacija.csv\"\n",
        "labels_cls = requests.get(labels_cls)\n",
        "labels_cls = labels_cls.text\n",
        "\n",
        "labels_gt = \"https://raw.githubusercontent.com/gpfer/projektR/main/dataset/cube%2B_gt.txt\"\n",
        "labels_gt = requests.get(labels_gt)\n",
        "labels_gt = labels_gt.text"
      ],
      "execution_count": 3,
      "outputs": []
    },
    {
      "cell_type": "markdown",
      "metadata": {
        "id": "wggmxoKjqDTc"
      },
      "source": [
        "Obrada labela"
      ]
    },
    {
      "cell_type": "code",
      "metadata": {
        "colab": {
          "base_uri": "https://localhost:8080/"
        },
        "id": "Pgh8i274p5YO",
        "outputId": "6843d86b-91af-477c-90dd-4b9e516f6787"
      },
      "source": [
        "import numpy as np\n",
        "import io\n",
        "\n",
        "labels_cls = labels_cls.split('\\n')\n",
        "\n",
        "nd = []\n",
        "for line in labels_cls[1:1708]:\n",
        "    line = line.split(',')\n",
        "    num = int(line[0])\n",
        "    val = line[1] + '-' + line[2]\n",
        "    if val.startswith('in'):\n",
        "        val = 'in'\n",
        "    nd.append([num, val])\n",
        "\n",
        "data = np.array(nd)\n",
        "\n",
        "cats = np.unique(data[:, 1])\n",
        "print(cats)\n",
        "new_data = []\n",
        "for d in data:\n",
        "  new_data.append(np.where(cats == d[1])[0][0])\n",
        "labels_cls = torch.LongTensor(new_data)\n",
        "labels_cls"
      ],
      "execution_count": 4,
      "outputs": [
        {
          "output_type": "stream",
          "text": [
            "['in' 'out-day' 'out-night']\n"
          ],
          "name": "stdout"
        },
        {
          "output_type": "execute_result",
          "data": {
            "text/plain": [
              "tensor([1, 1, 1,  ..., 2, 1, 1])"
            ]
          },
          "metadata": {
            "tags": []
          },
          "execution_count": 4
        }
      ]
    },
    {
      "cell_type": "code",
      "metadata": {
        "colab": {
          "base_uri": "https://localhost:8080/"
        },
        "id": "tykGpue4KDQY",
        "outputId": "b29a48c2-2a0c-443f-afb4-e9f0c4e0cac5"
      },
      "source": [
        "np.count_nonzero(labels_cls == 0)"
      ],
      "execution_count": 10,
      "outputs": [
        {
          "output_type": "execute_result",
          "data": {
            "text/plain": [
              "289"
            ]
          },
          "metadata": {
            "tags": []
          },
          "execution_count": 10
        }
      ]
    },
    {
      "cell_type": "code",
      "metadata": {
        "colab": {
          "base_uri": "https://localhost:8080/"
        },
        "id": "W9KRc1aZrGny",
        "outputId": "612e49ac-3683-43ea-fd74-d3ecfc9a8720"
      },
      "source": [
        "labels_gt = labels_gt.split('\\n')\n",
        "\n",
        "nd = []\n",
        "for line in labels_gt[:-1]:\n",
        "    gt = []\n",
        "    line = line.split(' ')\n",
        "    gt.append(float(line[0]))\n",
        "    gt.append(float(line[1]))\n",
        "    gt.append(float(line[2]))\n",
        "\n",
        "    nd.append(gt)\n",
        "\n",
        "labels_gt = torch.FloatTensor(nd)\n",
        "labels_gt"
      ],
      "execution_count": 14,
      "outputs": [
        {
          "output_type": "execute_result",
          "data": {
            "text/plain": [
              "tensor([[0.1624, 0.4533, 0.3844],\n",
              "        [0.2027, 0.4695, 0.3278],\n",
              "        [0.2040, 0.4714, 0.3246],\n",
              "        ...,\n",
              "        [0.4779, 0.4416, 0.0806],\n",
              "        [0.2037, 0.4708, 0.3254],\n",
              "        [0.3866, 0.4606, 0.1528]])"
            ]
          },
          "metadata": {
            "tags": []
          },
          "execution_count": 14
        }
      ]
    },
    {
      "cell_type": "code",
      "metadata": {
        "colab": {
          "base_uri": "https://localhost:8080/"
        },
        "id": "di8owEdxJsfm",
        "outputId": "493338ea-1bc4-4e90-d887-ce9f6882bc88"
      },
      "source": [
        "idx_train = []\n",
        "idx_test = []\n",
        "maxes = [58, 273, 10]\n",
        "\n",
        "for i in range(len(labels_cls)):\n",
        "    el = labels_cls[i]\n",
        "    if maxes[el] != 0:\n",
        "        idx_test.append(i)\n",
        "        maxes[el] -= 1\n",
        "    else:\n",
        "        idx_train.append(i)\n",
        "print(len(idx_train))"
      ],
      "execution_count": 15,
      "outputs": [
        {
          "output_type": "stream",
          "text": [
            "1366\n"
          ],
          "name": "stdout"
        }
      ]
    },
    {
      "cell_type": "markdown",
      "metadata": {
        "id": "ksTFQkXPs36q"
      },
      "source": [
        "Ucitavanje slika"
      ]
    },
    {
      "cell_type": "code",
      "metadata": {
        "colab": {
          "base_uri": "https://localhost:8080/"
        },
        "id": "41JSuBM5s0i5",
        "outputId": "52e5bd1f-01f0-485f-ac77-26bc5376c9a4"
      },
      "source": [
        "from PIL import Image\n",
        "\n",
        "root = \"/content/drive/My Drive/PNG\"\n",
        "\n",
        "train_images = []\n",
        "test_images = []\n",
        "\n",
        "for i in range(1, 1708):\n",
        "    name = str(i) + \".PNG\"\n",
        "    img = Image.open(root + '/' + name)\n",
        "    basewidth = 128\n",
        "    wpercent = (basewidth/float(img.size[0]))\n",
        "    hsize = int((float(img.size[1])*float(wpercent)))\n",
        "    img = img.resize((basewidth,hsize), Image.ANTIALIAS)\n",
        "    arr = transforms.ToTensor()(img)\n",
        "    arr = arr - 2048 / 65536\n",
        "    arr[arr<0] = 0\n",
        "    if (i-1) in idx_train:\n",
        "        train_images.append(arr)\n",
        "    else:\n",
        "        test_images.append(arr)\n",
        "print()\n",
        "train_images = torch.stack(train_images)\n",
        "test_images = torch.stack(test_images)\n",
        "train_images\n",
        "test_images"
      ],
      "execution_count": 16,
      "outputs": [
        {
          "output_type": "stream",
          "text": [
            "\n"
          ],
          "name": "stdout"
        },
        {
          "output_type": "execute_result",
          "data": {
            "text/plain": [
              "tensor([[[[6.6789e-02, 6.6789e-02, 6.6789e-02,  ..., 2.3652e-02,\n",
              "           2.7574e-02, 2.3652e-02],\n",
              "          [6.6789e-02, 6.6789e-02, 6.6789e-02,  ..., 2.3652e-02,\n",
              "           2.7574e-02, 2.3652e-02],\n",
              "          [6.6789e-02, 6.6789e-02, 6.6789e-02,  ..., 2.3652e-02,\n",
              "           2.3652e-02, 2.3652e-02],\n",
              "          ...,\n",
              "          [1.2255e-04, 1.2255e-04, 1.2255e-04,  ..., 1.2255e-04,\n",
              "           1.2255e-04, 1.2255e-04],\n",
              "          [1.2255e-04, 1.2255e-04, 1.2255e-04,  ..., 4.0441e-03,\n",
              "           4.0441e-03, 4.0441e-03],\n",
              "          [1.2255e-04, 1.2255e-04, 1.2255e-04,  ..., 4.0441e-03,\n",
              "           4.0441e-03, 4.0441e-03]],\n",
              "\n",
              "         [[1.9228e-01, 1.9228e-01, 1.9228e-01,  ..., 5.8946e-02,\n",
              "           5.8946e-02, 5.8946e-02],\n",
              "          [1.9228e-01, 1.9228e-01, 1.9228e-01,  ..., 5.1103e-02,\n",
              "           5.8946e-02, 5.5025e-02],\n",
              "          [1.9228e-01, 1.9228e-01, 1.9228e-01,  ..., 5.5025e-02,\n",
              "           5.8946e-02, 5.1103e-02],\n",
              "          ...,\n",
              "          [4.0441e-03, 4.0441e-03, 7.9657e-03,  ..., 4.0441e-03,\n",
              "           4.0441e-03, 4.0441e-03],\n",
              "          [4.0441e-03, 4.0441e-03, 4.0441e-03,  ..., 1.1887e-02,\n",
              "           7.9657e-03, 7.9657e-03],\n",
              "          [7.9657e-03, 7.9657e-03, 7.9657e-03,  ..., 7.9657e-03,\n",
              "           7.9657e-03, 7.9657e-03]],\n",
              "\n",
              "         [[1.5699e-01, 1.6091e-01, 1.6091e-01,  ..., 3.5417e-02,\n",
              "           3.9338e-02, 3.9338e-02],\n",
              "          [1.5699e-01, 1.5699e-01, 1.6091e-01,  ..., 3.5417e-02,\n",
              "           3.9338e-02, 3.9338e-02],\n",
              "          [1.5699e-01, 1.5699e-01, 1.5699e-01,  ..., 3.5417e-02,\n",
              "           3.9338e-02, 3.5417e-02],\n",
              "          ...,\n",
              "          [4.0441e-03, 1.2255e-04, 4.0441e-03,  ..., 1.2255e-04,\n",
              "           1.2255e-04, 1.2255e-04],\n",
              "          [1.2255e-04, 1.2255e-04, 4.0441e-03,  ..., 7.9657e-03,\n",
              "           4.0441e-03, 4.0441e-03],\n",
              "          [4.0441e-03, 4.0441e-03, 4.0441e-03,  ..., 4.0441e-03,\n",
              "           4.0441e-03, 4.0441e-03]]],\n",
              "\n",
              "\n",
              "        [[[1.5809e-02, 1.1887e-02, 1.1887e-02,  ..., 4.0441e-03,\n",
              "           4.0441e-03, 4.0441e-03],\n",
              "          [4.0441e-03, 4.0441e-03, 4.0441e-03,  ..., 4.0441e-03,\n",
              "           4.0441e-03, 4.0441e-03],\n",
              "          [7.9657e-03, 1.1887e-02, 1.5809e-02,  ..., 4.0441e-03,\n",
              "           4.0441e-03, 4.0441e-03],\n",
              "          ...,\n",
              "          [4.0441e-03, 4.0441e-03, 4.0441e-03,  ..., 4.0441e-03,\n",
              "           4.0441e-03, 4.0441e-03],\n",
              "          [4.0441e-03, 4.0441e-03, 4.0441e-03,  ..., 4.0441e-03,\n",
              "           4.0441e-03, 4.0441e-03],\n",
              "          [4.0441e-03, 4.0441e-03, 4.0441e-03,  ..., 4.0441e-03,\n",
              "           4.0441e-03, 4.0441e-03]],\n",
              "\n",
              "         [[3.1495e-02, 3.1495e-02, 3.1495e-02,  ..., 4.0441e-03,\n",
              "           1.1887e-02, 1.1887e-02],\n",
              "          [1.1887e-02, 1.1887e-02, 1.5809e-02,  ..., 7.9657e-03,\n",
              "           1.1887e-02, 1.1887e-02],\n",
              "          [1.9730e-02, 2.3652e-02, 2.7574e-02,  ..., 7.9657e-03,\n",
              "           7.9657e-03, 7.9657e-03],\n",
              "          ...,\n",
              "          [1.1887e-02, 1.1887e-02, 1.5809e-02,  ..., 1.1887e-02,\n",
              "           1.5809e-02, 1.5809e-02],\n",
              "          [1.1887e-02, 1.1887e-02, 1.1887e-02,  ..., 7.9657e-03,\n",
              "           1.1887e-02, 1.5809e-02],\n",
              "          [1.1887e-02, 1.1887e-02, 1.1887e-02,  ..., 1.1887e-02,\n",
              "           1.1887e-02, 1.1887e-02]],\n",
              "\n",
              "         [[1.5809e-02, 1.5809e-02, 1.5809e-02,  ..., 4.0441e-03,\n",
              "           4.0441e-03, 4.0441e-03],\n",
              "          [4.0441e-03, 4.0441e-03, 7.9657e-03,  ..., 4.0441e-03,\n",
              "           4.0441e-03, 4.0441e-03],\n",
              "          [1.1887e-02, 1.1887e-02, 1.5809e-02,  ..., 4.0441e-03,\n",
              "           4.0441e-03, 4.0441e-03],\n",
              "          ...,\n",
              "          [4.0441e-03, 4.0441e-03, 7.9657e-03,  ..., 4.0441e-03,\n",
              "           4.0441e-03, 4.0441e-03],\n",
              "          [4.0441e-03, 4.0441e-03, 4.0441e-03,  ..., 4.0441e-03,\n",
              "           4.0441e-03, 4.0441e-03],\n",
              "          [4.0441e-03, 4.0441e-03, 4.0441e-03,  ..., 4.0441e-03,\n",
              "           4.0441e-03, 4.0441e-03]]],\n",
              "\n",
              "\n",
              "        [[[3.5417e-02, 3.5417e-02, 3.5417e-02,  ..., 2.7574e-02,\n",
              "           2.7574e-02, 2.7574e-02],\n",
              "          [3.5417e-02, 3.5417e-02, 3.5417e-02,  ..., 2.7574e-02,\n",
              "           2.7574e-02, 2.7574e-02],\n",
              "          [3.5417e-02, 3.5417e-02, 3.5417e-02,  ..., 2.7574e-02,\n",
              "           2.7574e-02, 2.7574e-02],\n",
              "          ...,\n",
              "          [1.1887e-02, 1.1887e-02, 1.1887e-02,  ..., 2.3652e-02,\n",
              "           1.9730e-02, 1.9730e-02],\n",
              "          [1.1887e-02, 1.1887e-02, 1.1887e-02,  ..., 1.5809e-02,\n",
              "           1.1887e-02, 1.5809e-02],\n",
              "          [1.1887e-02, 1.1887e-02, 7.9657e-03,  ..., 4.0441e-03,\n",
              "           7.9657e-03, 4.0441e-03]],\n",
              "\n",
              "         [[9.0319e-02, 9.0319e-02, 9.0319e-02,  ..., 7.0711e-02,\n",
              "           6.6789e-02, 6.6789e-02],\n",
              "          [9.0319e-02, 9.0319e-02, 9.0319e-02,  ..., 7.0711e-02,\n",
              "           6.6789e-02, 6.6789e-02],\n",
              "          [9.0319e-02, 9.0319e-02, 9.0319e-02,  ..., 7.0711e-02,\n",
              "           6.6789e-02, 6.6789e-02],\n",
              "          ...,\n",
              "          [2.7574e-02, 2.7574e-02, 2.7574e-02,  ..., 3.1495e-02,\n",
              "           3.1495e-02, 3.1495e-02],\n",
              "          [2.7574e-02, 3.1495e-02, 3.1495e-02,  ..., 2.3652e-02,\n",
              "           1.9730e-02, 2.7574e-02],\n",
              "          [2.3652e-02, 2.3652e-02, 1.5809e-02,  ..., 7.9657e-03,\n",
              "           7.9657e-03, 7.9657e-03]],\n",
              "\n",
              "         [[6.6789e-02, 6.6789e-02, 6.6789e-02,  ..., 5.1103e-02,\n",
              "           5.1103e-02, 5.1103e-02],\n",
              "          [6.6789e-02, 6.6789e-02, 6.6789e-02,  ..., 5.1103e-02,\n",
              "           5.1103e-02, 5.1103e-02],\n",
              "          [6.6789e-02, 6.6789e-02, 6.6789e-02,  ..., 5.1103e-02,\n",
              "           5.1103e-02, 5.1103e-02],\n",
              "          ...,\n",
              "          [1.9730e-02, 1.5809e-02, 1.5809e-02,  ..., 1.5809e-02,\n",
              "           1.5809e-02, 1.5809e-02],\n",
              "          [1.9730e-02, 1.9730e-02, 1.9730e-02,  ..., 1.1887e-02,\n",
              "           1.1887e-02, 1.5809e-02],\n",
              "          [1.1887e-02, 1.5809e-02, 1.1887e-02,  ..., 4.0441e-03,\n",
              "           4.0441e-03, 4.0441e-03]]],\n",
              "\n",
              "\n",
              "        ...,\n",
              "\n",
              "\n",
              "        [[[2.3652e-02, 2.3652e-02, 2.3652e-02,  ..., 1.9730e-02,\n",
              "           1.9730e-02, 1.9730e-02],\n",
              "          [2.3652e-02, 2.3652e-02, 2.3652e-02,  ..., 1.9730e-02,\n",
              "           1.9730e-02, 1.9730e-02],\n",
              "          [2.3652e-02, 2.3652e-02, 2.3652e-02,  ..., 1.9730e-02,\n",
              "           1.9730e-02, 1.9730e-02],\n",
              "          ...,\n",
              "          [4.0441e-03, 4.0441e-03, 1.2255e-04,  ..., 1.2255e-04,\n",
              "           1.2255e-04, 1.2255e-04],\n",
              "          [1.2255e-04, 1.2255e-04, 1.2255e-04,  ..., 1.2255e-04,\n",
              "           1.2255e-04, 1.2255e-04],\n",
              "          [1.2255e-04, 1.2255e-04, 4.0441e-03,  ..., 1.2255e-04,\n",
              "           1.2255e-04, 1.2255e-04]],\n",
              "\n",
              "         [[2.7574e-02, 2.7574e-02, 2.7574e-02,  ..., 2.3652e-02,\n",
              "           2.3652e-02, 2.3652e-02],\n",
              "          [2.7574e-02, 2.7574e-02, 2.7574e-02,  ..., 2.3652e-02,\n",
              "           2.3652e-02, 2.3652e-02],\n",
              "          [2.7574e-02, 2.7574e-02, 2.7574e-02,  ..., 2.3652e-02,\n",
              "           2.3652e-02, 2.3652e-02],\n",
              "          ...,\n",
              "          [4.0441e-03, 4.0441e-03, 4.0441e-03,  ..., 1.2255e-04,\n",
              "           1.2255e-04, 1.2255e-04],\n",
              "          [4.0441e-03, 4.0441e-03, 4.0441e-03,  ..., 1.2255e-04,\n",
              "           1.2255e-04, 1.2255e-04],\n",
              "          [4.0441e-03, 4.0441e-03, 4.0441e-03,  ..., 1.2255e-04,\n",
              "           1.2255e-04, 1.2255e-04]],\n",
              "\n",
              "         [[7.9657e-03, 7.9657e-03, 7.9657e-03,  ..., 7.9657e-03,\n",
              "           4.0441e-03, 7.9657e-03],\n",
              "          [7.9657e-03, 7.9657e-03, 7.9657e-03,  ..., 7.9657e-03,\n",
              "           7.9657e-03, 7.9657e-03],\n",
              "          [7.9657e-03, 7.9657e-03, 7.9657e-03,  ..., 7.9657e-03,\n",
              "           7.9657e-03, 7.9657e-03],\n",
              "          ...,\n",
              "          [1.2255e-04, 1.2255e-04, 1.2255e-04,  ..., 1.2255e-04,\n",
              "           1.2255e-04, 1.2255e-04],\n",
              "          [1.2255e-04, 1.2255e-04, 1.2255e-04,  ..., 1.2255e-04,\n",
              "           1.2255e-04, 1.2255e-04],\n",
              "          [1.2255e-04, 1.2255e-04, 1.2255e-04,  ..., 1.2255e-04,\n",
              "           1.2255e-04, 1.2255e-04]]],\n",
              "\n",
              "\n",
              "        [[[1.2255e-04, 4.0441e-03, 1.2255e-04,  ..., 7.9657e-03,\n",
              "           7.9657e-03, 7.9657e-03],\n",
              "          [1.2255e-04, 1.2255e-04, 1.2255e-04,  ..., 7.9657e-03,\n",
              "           7.9657e-03, 7.9657e-03],\n",
              "          [1.2255e-04, 4.0441e-03, 1.2255e-04,  ..., 7.9657e-03,\n",
              "           7.9657e-03, 7.9657e-03],\n",
              "          ...,\n",
              "          [1.2255e-04, 1.2255e-04, 1.2255e-04,  ..., 7.9657e-03,\n",
              "           4.0441e-03, 4.0441e-03],\n",
              "          [1.2255e-04, 4.0441e-03, 1.2255e-04,  ..., 4.0441e-03,\n",
              "           4.0441e-03, 4.0441e-03],\n",
              "          [1.2255e-04, 4.0441e-03, 1.2255e-04,  ..., 7.9657e-03,\n",
              "           7.9657e-03, 7.9657e-03]],\n",
              "\n",
              "         [[4.0441e-03, 1.1887e-02, 1.2255e-04,  ..., 1.5809e-02,\n",
              "           1.5809e-02, 1.5809e-02],\n",
              "          [4.0441e-03, 4.0441e-03, 1.2255e-04,  ..., 1.5809e-02,\n",
              "           1.5809e-02, 1.5809e-02],\n",
              "          [4.0441e-03, 7.9657e-03, 7.9657e-03,  ..., 1.5809e-02,\n",
              "           1.5809e-02, 1.5809e-02],\n",
              "          ...,\n",
              "          [1.2255e-04, 1.2255e-04, 4.0441e-03,  ..., 1.5809e-02,\n",
              "           1.5809e-02, 1.1887e-02],\n",
              "          [4.0441e-03, 7.9657e-03, 4.0441e-03,  ..., 7.9657e-03,\n",
              "           1.1887e-02, 1.1887e-02],\n",
              "          [7.9657e-03, 7.9657e-03, 7.9657e-03,  ..., 2.3652e-02,\n",
              "           1.5809e-02, 1.5809e-02]],\n",
              "\n",
              "         [[1.2255e-04, 4.0441e-03, 1.2255e-04,  ..., 7.9657e-03,\n",
              "           7.9657e-03, 7.9657e-03],\n",
              "          [1.2255e-04, 1.2255e-04, 1.2255e-04,  ..., 7.9657e-03,\n",
              "           7.9657e-03, 7.9657e-03],\n",
              "          [1.2255e-04, 4.0441e-03, 1.2255e-04,  ..., 1.1887e-02,\n",
              "           7.9657e-03, 7.9657e-03],\n",
              "          ...,\n",
              "          [1.2255e-04, 1.2255e-04, 1.2255e-04,  ..., 7.9657e-03,\n",
              "           7.9657e-03, 4.0441e-03],\n",
              "          [1.2255e-04, 4.0441e-03, 1.2255e-04,  ..., 4.0441e-03,\n",
              "           4.0441e-03, 4.0441e-03],\n",
              "          [4.0441e-03, 4.0441e-03, 4.0441e-03,  ..., 1.1887e-02,\n",
              "           1.1887e-02, 7.9657e-03]]],\n",
              "\n",
              "\n",
              "        [[[1.9730e-02, 1.9730e-02, 1.9730e-02,  ..., 1.9730e-02,\n",
              "           1.9730e-02, 1.5809e-02],\n",
              "          [1.9730e-02, 1.9730e-02, 1.9730e-02,  ..., 1.9730e-02,\n",
              "           1.9730e-02, 1.5809e-02],\n",
              "          [1.9730e-02, 1.9730e-02, 1.9730e-02,  ..., 1.9730e-02,\n",
              "           1.9730e-02, 1.5809e-02],\n",
              "          ...,\n",
              "          [1.9730e-02, 1.9730e-02, 1.9730e-02,  ..., 4.0441e-03,\n",
              "           4.0441e-03, 4.0441e-03],\n",
              "          [1.9730e-02, 1.9730e-02, 1.9730e-02,  ..., 4.0441e-03,\n",
              "           4.0441e-03, 4.0441e-03],\n",
              "          [1.5809e-02, 1.9730e-02, 1.9730e-02,  ..., 4.0441e-03,\n",
              "           4.0441e-03, 4.0441e-03]],\n",
              "\n",
              "         [[3.5417e-02, 3.5417e-02, 3.5417e-02,  ..., 3.5417e-02,\n",
              "           3.1495e-02, 2.7574e-02],\n",
              "          [3.5417e-02, 3.5417e-02, 3.5417e-02,  ..., 3.5417e-02,\n",
              "           3.1495e-02, 2.7574e-02],\n",
              "          [3.5417e-02, 3.5417e-02, 3.5417e-02,  ..., 3.5417e-02,\n",
              "           3.1495e-02, 2.3652e-02],\n",
              "          ...,\n",
              "          [3.1495e-02, 3.5417e-02, 3.5417e-02,  ..., 7.9657e-03,\n",
              "           4.0441e-03, 4.0441e-03],\n",
              "          [3.1495e-02, 3.5417e-02, 3.5417e-02,  ..., 7.9657e-03,\n",
              "           4.0441e-03, 4.0441e-03],\n",
              "          [3.1495e-02, 3.1495e-02, 3.5417e-02,  ..., 7.9657e-03,\n",
              "           4.0441e-03, 4.0441e-03]],\n",
              "\n",
              "         [[1.5809e-02, 1.5809e-02, 1.5809e-02,  ..., 1.1887e-02,\n",
              "           1.1887e-02, 1.1887e-02],\n",
              "          [1.5809e-02, 1.5809e-02, 1.5809e-02,  ..., 1.1887e-02,\n",
              "           1.1887e-02, 1.1887e-02],\n",
              "          [1.5809e-02, 1.5809e-02, 1.5809e-02,  ..., 1.1887e-02,\n",
              "           1.1887e-02, 1.1887e-02],\n",
              "          ...,\n",
              "          [1.1887e-02, 1.1887e-02, 1.1887e-02,  ..., 1.2255e-04,\n",
              "           1.2255e-04, 1.2255e-04],\n",
              "          [1.1887e-02, 1.1887e-02, 1.1887e-02,  ..., 1.2255e-04,\n",
              "           1.2255e-04, 1.2255e-04],\n",
              "          [1.1887e-02, 1.1887e-02, 1.1887e-02,  ..., 1.2255e-04,\n",
              "           1.2255e-04, 1.2255e-04]]]])"
            ]
          },
          "metadata": {
            "tags": []
          },
          "execution_count": 16
        }
      ]
    },
    {
      "cell_type": "code",
      "metadata": {
        "id": "dwxrTy63u5fe"
      },
      "source": [
        "train_labels_cls = []\n",
        "test_labels_cls = []\n",
        "\n",
        "for i in range(len(labels_cls)):\n",
        "    if i in idx_train:\n",
        "        train_labels_cls.append(labels_cls[i])\n",
        "    else:\n",
        "        test_labels_cls.append(labels_cls[i])\n",
        "\n",
        "train_labels_cls = torch.stack(train_labels_cls)\n",
        "test_labels_cls = torch.stack(test_labels_cls)\n",
        "\n",
        "train_labels_gt = []\n",
        "test_labels_gt = []\n",
        "\n",
        "for i in range(len(labels_gt)):\n",
        "    if i in idx_train:\n",
        "        train_labels_gt.append(labels_gt[i])\n",
        "    else:\n",
        "        test_labels_gt.append(labels_gt[i])\n",
        "\n",
        "train_labels_gt = torch.stack(train_labels_gt)\n",
        "test_labels_gt = torch.stack(test_labels_gt)"
      ],
      "execution_count": 19,
      "outputs": []
    },
    {
      "cell_type": "code",
      "metadata": {
        "id": "6wP9wR1nF5de"
      },
      "source": [
        "train_dataset_cls = TensorDataset(train_images, train_labels_cls)\n",
        "test_dataset_cls = TensorDataset(test_images, test_labels_cls)\n",
        "\n",
        "train_dataset_gt = TensorDataset(train_images, train_labels_gt)\n",
        "test_dataset_gt = TensorDataset(test_images, test_labels_gt)\n",
        "\n",
        "train_loader_cls = DataLoader(train_dataset_cls, batch_size=64, shuffle=True)\n",
        "test_loader_cls = DataLoader(test_dataset_cls, batch_size=64, shuffle=True)\n",
        "\n",
        "train_loader_gt = DataLoader(train_dataset_gt, batch_size=64, shuffle=True)\n",
        "test_loader_gt = DataLoader(test_dataset_gt, batch_size=64, shuffle=True)"
      ],
      "execution_count": 20,
      "outputs": []
    },
    {
      "cell_type": "markdown",
      "metadata": {
        "id": "UTvE9HPGL23g"
      },
      "source": [
        "# Teniranje klasifikatora"
      ]
    },
    {
      "cell_type": "markdown",
      "metadata": {
        "id": "8AzuPkQQMkDi"
      },
      "source": [
        "Keiranje modela za klasifikaciju"
      ]
    },
    {
      "cell_type": "code",
      "metadata": {
        "id": "rMAILbE3L61-"
      },
      "source": [
        "class Net(nn.Module):\n",
        "  def __init__(self):\n",
        "    super(Net, self).__init__()\n",
        "\n",
        "    self.conv1 = nn.Conv2d(3, 16, kernel_size=5)\n",
        "    self.conv2 = nn.Conv2d(16, 32, kernel_size=5)\n",
        "    self.conv3 = nn.Conv2d(32, 64, kernel_size=5)\n",
        "\n",
        "    self.fc1 = nn.Linear(5376, 800)\n",
        "    self.fc2 = nn.Linear(800, 400)\n",
        "    self.fc3 = nn.Linear(400, 100)\n",
        "    self.fc4 = nn.Linear(100, 3)\n",
        "\n",
        "    self.batch = nn.BatchNorm1d(800)\n",
        "    \n",
        "    self.maxpool = nn.MaxPool2d(kernel_size=2)\n",
        "    self.relu = nn.ReLU(inplace=True)\n",
        "\n",
        "  def forward(self, x):\n",
        "    x = self.conv1(x)\n",
        "    x = self.relu(x)\n",
        "    x = self.maxpool(x)\n",
        "\n",
        "    x = self.conv2(x)\n",
        "    x = self.relu(x)\n",
        "    x = self.maxpool(x)\n",
        "\n",
        "    x = self.conv3(x)\n",
        "    x = self.relu(x)\n",
        "    x = self.maxpool(x)\n",
        "\n",
        "    x = x.view(-1, 5376)\n",
        "    x = self.fc1(x)\n",
        "    x = self.relu(x)\n",
        "\n",
        "    x = self.batch(x)\n",
        "\n",
        "    x = self.fc2(x)\n",
        "    x = self.relu(x)\n",
        "\n",
        "    x = self.fc3(x)\n",
        "    x = self.relu(x)\n",
        "\n",
        "    x = self.fc4(x)\n",
        "    x = self.relu(x)\n",
        "\n",
        "    return F.log_softmax(x, dim=1)"
      ],
      "execution_count": 21,
      "outputs": []
    },
    {
      "cell_type": "code",
      "metadata": {
        "id": "tWv3nSVNMbP4"
      },
      "source": [
        "n_epochs = 10\n",
        "learning_rate = 0.00005\n",
        "device = 'cpu'"
      ],
      "execution_count": 22,
      "outputs": []
    },
    {
      "cell_type": "markdown",
      "metadata": {
        "id": "Vps8xKS9NaYJ"
      },
      "source": [
        "Funkcije za treniranje i evaluaciju klasifikacije"
      ]
    },
    {
      "cell_type": "code",
      "metadata": {
        "id": "WC8jUYrQMeNp"
      },
      "source": [
        "def train_step_cls(network, train_data, epoch, device):\n",
        "  losses = []\n",
        "  counter = []\n",
        "\n",
        "  network.train()\n",
        "  for idx, (data, target) in enumerate(train_data):\n",
        "    data = data.to(device)\n",
        "    target = target.to(device)\n",
        "\n",
        "    network.zero_grad()\n",
        "    output = network(data)\n",
        "    loss = F.nll_loss(output, target)\n",
        "    loss.backward()\n",
        "    optimizer.step()\n",
        "\n",
        "    if idx % 5 == 0:\n",
        "      print('Train Epoch: {:2d}, ({:2.0f}%), Loss: {:.5f}'.format(\n",
        "          epoch, 100*idx*64/len(train_data.dataset), loss\n",
        "      ))\n",
        "      losses.append(loss)\n",
        "      counter.append(idx*64 + (epoch-1)*len(train_data.dataset))\n",
        "\n",
        "  return losses, counter"
      ],
      "execution_count": 23,
      "outputs": []
    },
    {
      "cell_type": "code",
      "metadata": {
        "id": "j2DvA4jVNizt"
      },
      "source": [
        "def test_cls(network, test_data, device):\n",
        "  network.eval()\n",
        "\n",
        "  loss = 0\n",
        "  correct = 0\n",
        "  with torch.no_grad():\n",
        "    for data, target in test_data:\n",
        "      data = data.to(device)\n",
        "      target = target.to(device)\n",
        "\n",
        "      output = network(data)\n",
        "      loss += F.nll_loss(output, target, reduction=\"sum\").item()\n",
        "      prediction = output.data.max(1, keepdim=True)[1]\n",
        "      correct += prediction.eq(target.data.view_as(prediction)).sum()\n",
        "\n",
        "  loss /= len(test_data.dataset)\n",
        "  accuracy = 100 * correct / len(test_data.dataset)\n",
        "\n",
        "  print('\\nTest loss: {:.3f}, Accuracy: {:4d}/{:4d} ({:2.2f}%)'.format(\n",
        "      loss, correct, len(test_data.dataset), accuracy\n",
        "  ))\n",
        "\n",
        "  return loss, accuracy"
      ],
      "execution_count": 24,
      "outputs": []
    },
    {
      "cell_type": "code",
      "metadata": {
        "id": "CDtOZIrCNpRt"
      },
      "source": [
        "def train_cls(network, train_data, test_data, device='cuda'):\n",
        "  test_loss = []\n",
        "  test_acc = []\n",
        "  train_loss = []\n",
        "  counter = []\n",
        "\n",
        "  # testiramo pocetni model\n",
        "  loss_t, acc_t = test_cls(network, test_data, device)\n",
        "  test_loss.append(loss_t)\n",
        "  test_acc.append(acc_t)\n",
        "\n",
        "  for epoch in range(1, n_epochs+1):\n",
        "    # korak i test\n",
        "    loss, cnt = train_step_cls(network, train_data, epoch, device)\n",
        "    loss_t, acc_t = test_cls(network, test_data, device)\n",
        "\n",
        "    test_loss.append(loss_t)\n",
        "    test_acc.append(acc_t)\n",
        "    train_loss.append(loss)\n",
        "    counter.append(cnt)\n",
        "\n",
        "  return test_loss, test_acc, train_loss, counter"
      ],
      "execution_count": 25,
      "outputs": []
    },
    {
      "cell_type": "markdown",
      "metadata": {
        "id": "doPS5lbEOAIP"
      },
      "source": [
        "Treniranje modela"
      ]
    },
    {
      "cell_type": "code",
      "metadata": {
        "id": "CrnscwegOC2Q"
      },
      "source": [
        "klasifikacija = Net().to(device)\n",
        "optimizer = optim.Adam(klasifikacija.parameters(), lr=learning_rate)"
      ],
      "execution_count": 44,
      "outputs": []
    },
    {
      "cell_type": "code",
      "metadata": {
        "colab": {
          "base_uri": "https://localhost:8080/"
        },
        "id": "h_bd8k7mOM4C",
        "outputId": "28888295-37b0-4f13-f278-b9e236447118"
      },
      "source": [
        "test_loss, test_acc, train_loss, counter = train_cls(klasifikacija, train_loader_cls, test_loader_cls, device)"
      ],
      "execution_count": 45,
      "outputs": [
        {
          "output_type": "stream",
          "text": [
            "\n",
            "Test loss: 1.102, Accuracy:   10/ 341 (2.93%)\n",
            "Train Epoch:  1, ( 0%), Loss: 1.11429\n",
            "Train Epoch:  1, (23%), Loss: 1.09877\n",
            "Train Epoch:  1, (47%), Loss: 1.09858\n",
            "Train Epoch:  1, (70%), Loss: 1.09687\n",
            "Train Epoch:  1, (94%), Loss: 1.09285\n",
            "\n",
            "Test loss: 1.099, Accuracy:   62/ 341 (18.18%)\n",
            "Train Epoch:  2, ( 0%), Loss: 1.09235\n",
            "Train Epoch:  2, (23%), Loss: 1.09019\n",
            "Train Epoch:  2, (47%), Loss: 1.07850\n",
            "Train Epoch:  2, (70%), Loss: 1.08363\n",
            "Train Epoch:  2, (94%), Loss: 1.06854\n",
            "\n",
            "Test loss: 1.099, Accuracy:   62/ 341 (18.18%)\n",
            "Train Epoch:  3, ( 0%), Loss: 1.06051\n",
            "Train Epoch:  3, (23%), Loss: 1.06427\n",
            "Train Epoch:  3, (47%), Loss: 1.05074\n",
            "Train Epoch:  3, (70%), Loss: 1.05482\n",
            "Train Epoch:  3, (94%), Loss: 1.01755\n",
            "\n",
            "Test loss: 1.097, Accuracy:   60/ 341 (17.60%)\n",
            "Train Epoch:  4, ( 0%), Loss: 1.04142\n",
            "Train Epoch:  4, (23%), Loss: 0.98386\n",
            "Train Epoch:  4, (47%), Loss: 0.96414\n",
            "Train Epoch:  4, (70%), Loss: 0.97315\n",
            "Train Epoch:  4, (94%), Loss: 0.86763\n",
            "\n",
            "Test loss: 0.828, Accuracy:  250/ 341 (73.31%)\n",
            "Train Epoch:  5, ( 0%), Loss: 0.92029\n",
            "Train Epoch:  5, (23%), Loss: 0.83167\n",
            "Train Epoch:  5, (47%), Loss: 0.75213\n",
            "Train Epoch:  5, (70%), Loss: 0.78658\n",
            "Train Epoch:  5, (94%), Loss: 0.69296\n",
            "\n",
            "Test loss: 0.681, Accuracy:  272/ 341 (79.77%)\n",
            "Train Epoch:  6, ( 0%), Loss: 0.63450\n",
            "Train Epoch:  6, (23%), Loss: 0.55850\n",
            "Train Epoch:  6, (47%), Loss: 0.55582\n",
            "Train Epoch:  6, (70%), Loss: 0.42552\n",
            "Train Epoch:  6, (94%), Loss: 0.55191\n",
            "\n",
            "Test loss: 0.481, Accuracy:  313/ 341 (91.79%)\n",
            "Train Epoch:  7, ( 0%), Loss: 0.36809\n",
            "Train Epoch:  7, (23%), Loss: 0.38405\n",
            "Train Epoch:  7, (47%), Loss: 0.25965\n",
            "Train Epoch:  7, (70%), Loss: 0.24319\n",
            "Train Epoch:  7, (94%), Loss: 0.25369\n",
            "\n",
            "Test loss: 0.227, Accuracy:  317/ 341 (92.96%)\n",
            "Train Epoch:  8, ( 0%), Loss: 0.22477\n",
            "Train Epoch:  8, (23%), Loss: 0.20130\n",
            "Train Epoch:  8, (47%), Loss: 0.21983\n",
            "Train Epoch:  8, (70%), Loss: 0.25844\n",
            "Train Epoch:  8, (94%), Loss: 0.14288\n",
            "\n",
            "Test loss: 0.258, Accuracy:  314/ 341 (92.08%)\n",
            "Train Epoch:  9, ( 0%), Loss: 0.13139\n",
            "Train Epoch:  9, (23%), Loss: 0.11396\n",
            "Train Epoch:  9, (47%), Loss: 0.07672\n",
            "Train Epoch:  9, (70%), Loss: 0.14843\n",
            "Train Epoch:  9, (94%), Loss: 0.25186\n",
            "\n",
            "Test loss: 0.206, Accuracy:  317/ 341 (92.96%)\n",
            "Train Epoch: 10, ( 0%), Loss: 0.10173\n",
            "Train Epoch: 10, (23%), Loss: 0.14035\n",
            "Train Epoch: 10, (47%), Loss: 0.07984\n",
            "Train Epoch: 10, (70%), Loss: 0.12543\n",
            "Train Epoch: 10, (94%), Loss: 0.09837\n",
            "\n",
            "Test loss: 0.169, Accuracy:  327/ 341 (95.89%)\n"
          ],
          "name": "stdout"
        }
      ]
    },
    {
      "cell_type": "code",
      "metadata": {
        "id": "kArPLVVQ7QZz"
      },
      "source": [
        "torch.save(klasifikacija.state_dict(), './klasifikacija.pth')"
      ],
      "execution_count": 46,
      "outputs": []
    },
    {
      "cell_type": "markdown",
      "metadata": {
        "id": "KYmoYHdpP0y9"
      },
      "source": [
        "Vizualizacija treninga"
      ]
    },
    {
      "cell_type": "code",
      "metadata": {
        "id": "zomBFYK2mJUS"
      },
      "source": [
        "import matplotlib.pyplot as plt\n",
        "\n",
        "counter = np.array(counter).flatten()\n",
        "train_loss = np.array(train_loss).flatten()\n"
      ],
      "execution_count": 47,
      "outputs": []
    },
    {
      "cell_type": "code",
      "metadata": {
        "colab": {
          "base_uri": "https://localhost:8080/",
          "height": 424
        },
        "id": "F4GbOxaJPzsx",
        "outputId": "de7ca2af-94e8-494f-c29b-80eb5468b6e9"
      },
      "source": [
        "plt.figure(figsize=(19, 6))\n",
        "\n",
        "plt.plot(counter[1::5], test_loss[1:])\n",
        "\n",
        "plt.legend()\n",
        "plt.grid()\n",
        "plt.ylabel(\"Test loss\")\n",
        "plt.xlabel(\"Steps\")"
      ],
      "execution_count": 48,
      "outputs": [
        {
          "output_type": "stream",
          "text": [
            "No handles with labels found to put in legend.\n"
          ],
          "name": "stderr"
        },
        {
          "output_type": "execute_result",
          "data": {
            "text/plain": [
              "Text(0.5, 0, 'Steps')"
            ]
          },
          "metadata": {
            "tags": []
          },
          "execution_count": 48
        },
        {
          "output_type": "display_data",
          "data": {
            "image/png": "[encoded data removed]",
            "text/plain": [
              "<Figure size 1368x432 with 1 Axes>"
            ]
          },
          "metadata": {
            "tags": [],
            "needs_background": "light"
          }
        }
      ]
    },
    {
      "cell_type": "code",
      "metadata": {
        "colab": {
          "base_uri": "https://localhost:8080/",
          "height": 424
        },
        "id": "CBlIxJNm0U0c",
        "outputId": "9a77004f-c6b0-42be-a467-00129c117261"
      },
      "source": [
        "test_acc = np.array(test_acc).flatten()\n",
        "plt.figure(figsize=(19, 6))\n",
        "\n",
        "plt.plot(counter[1::5], test_acc[1:])\n",
        "\n",
        "plt.legend()\n",
        "plt.grid()\n",
        "plt.ylabel(\"Test accuracy\")\n",
        "plt.xlabel(\"Steps\")"
      ],
      "execution_count": 49,
      "outputs": [
        {
          "output_type": "stream",
          "text": [
            "No handles with labels found to put in legend.\n"
          ],
          "name": "stderr"
        },
        {
          "output_type": "execute_result",
          "data": {
            "text/plain": [
              "Text(0.5, 0, 'Steps')"
            ]
          },
          "metadata": {
            "tags": []
          },
          "execution_count": 49
        },
        {
          "output_type": "display_data",
          "data": {
            "image/png": "[encoded data removed]",
            "text/plain": [
              "<Figure size 1368x432 with 1 Axes>"
            ]
          },
          "metadata": {
            "tags": [],
            "needs_background": "light"
          }
        }
      ]
    },
    {
      "cell_type": "code",
      "metadata": {
        "colab": {
          "base_uri": "https://localhost:8080/"
        },
        "id": "7rrSnosewdFy",
        "outputId": "6d56b70e-8444-4fe8-fb1b-83b3dae57f71"
      },
      "source": [
        "confusion_matrix = torch.zeros(3, 3)\n",
        "with torch.no_grad():\n",
        "    for i, (inputs, classes) in enumerate(test_loader_cls):\n",
        "        inputs = inputs.to(device)\n",
        "        classes = classes.to(device)\n",
        "        outputs = klasifikacija(inputs)\n",
        "        _, preds = torch.max(outputs, 1)\n",
        "        for t, p in zip(classes.view(-1), preds.view(-1)):\n",
        "                confusion_matrix[t.long(), p.long()] += 1\n",
        "\n",
        "print(cats)\n",
        "print(confusion_matrix)"
      ],
      "execution_count": 50,
      "outputs": [
        {
          "output_type": "stream",
          "text": [
            "['in' 'out-day' 'out-night']\n",
            "tensor([[ 52.,   6.,   0.],\n",
            "        [  6., 267.,   0.],\n",
            "        [  2.,   0.,   8.]])\n"
          ],
          "name": "stdout"
        }
      ]
    },
    {
      "cell_type": "markdown",
      "metadata": {
        "id": "DSOsMhNq0Enm"
      },
      "source": [
        "# Procjena osvjetljenja"
      ]
    },
    {
      "cell_type": "markdown",
      "metadata": {
        "id": "ON7JR4yOvKoH"
      },
      "source": [
        "Kreiranje modela za procjenu osvjetljenja"
      ]
    },
    {
      "cell_type": "code",
      "metadata": {
        "id": "Pa9Tquvp0URW"
      },
      "source": [
        "class Net(nn.Module):\n",
        "  def __init__(self, klas):\n",
        "    super(Net, self).__init__()\n",
        "\n",
        "    self.klas = klas\n",
        "\n",
        "    self.conv1 = nn.Conv2d(3, 16, kernel_size=5)\n",
        "    self.conv2 = nn.Conv2d(16, 32, kernel_size=5)\n",
        "    self.conv3 = nn.Conv2d(32, 64, kernel_size=5)\n",
        "\n",
        "    self.fc1 = nn.Linear(5376, 800)\n",
        "    self.fc2 = nn.Linear(800, 400)\n",
        "    self.fc3 = nn.Linear(400, 50)\n",
        "    self.fc4 = nn.Linear(50 + 3, 3)\n",
        "\n",
        "    self.batch = nn.BatchNorm1d(800)\n",
        "    \n",
        "    self.maxpool = nn.MaxPool2d(kernel_size=2)\n",
        "    self.relu = nn.ReLU(inplace=True)\n",
        "\n",
        "  def forward(self, x):\n",
        "    self.klas.eval()\n",
        "    k = None\n",
        "    with torch.no_grad():\n",
        "        k = self.klas(x)\n",
        "\n",
        "    x = self.conv1(x)\n",
        "    x = self.relu(x)\n",
        "    x = self.maxpool(x)\n",
        "\n",
        "    x = self.conv2(x)\n",
        "    x = self.relu(x)\n",
        "    x = self.maxpool(x)\n",
        "\n",
        "    x = self.conv3(x)\n",
        "    x = self.relu(x)\n",
        "    x = self.maxpool(x)\n",
        "\n",
        "    x = x.view(-1, 5376)\n",
        "    x = self.fc1(x)\n",
        "    x = self.relu(x)\n",
        "\n",
        "    x = self.batch(x)\n",
        "\n",
        "    x = self.fc2(x)\n",
        "    x = self.relu(x)\n",
        "\n",
        "    x = self.fc3(x)\n",
        "    x = self.relu(x)\n",
        "\n",
        "    x1 = x.view(x.size(0), -1)\n",
        "    x2 = k.view(k.size(0), -1)\n",
        "    \n",
        "    x = torch.cat((x1, x2), dim=1)\n",
        "\n",
        "    x = self.fc4(x)\n",
        "    x = self.relu(x)\n",
        "\n",
        "    return x"
      ],
      "execution_count": 51,
      "outputs": []
    },
    {
      "cell_type": "code",
      "metadata": {
        "id": "R1vxyfMHwKVI"
      },
      "source": [
        "n_epochs = 10\n",
        "learning_rate = 0.00005\n",
        "device = 'cpu'"
      ],
      "execution_count": 52,
      "outputs": []
    },
    {
      "cell_type": "markdown",
      "metadata": {
        "id": "anUifIrpvP5p"
      },
      "source": [
        "Funkcije za treniranje"
      ]
    },
    {
      "cell_type": "code",
      "metadata": {
        "id": "PJHxHFu-vUiq"
      },
      "source": [
        "def train_step_gt(network, train_data, epoch, device):\n",
        "  losses = []\n",
        "  counter = []\n",
        "\n",
        "  network.train()\n",
        "  for idx, (data, target) in enumerate(train_data):\n",
        "    data = data.to(device)\n",
        "    target = target.to(device)\n",
        "\n",
        "    network.zero_grad()\n",
        "    output = network(data)\n",
        "    loss = F.mse_loss(output, target)\n",
        "    loss.backward()\n",
        "    optimizer.step()\n",
        "\n",
        "    if idx % 5 == 0:\n",
        "      print('Train Epoch: {:2d}, ({:2.0f}%), Loss: {:.5f}'.format(\n",
        "          epoch, 100*idx*64/len(train_data.dataset), loss\n",
        "      ))\n",
        "      losses.append(loss)\n",
        "      counter.append(idx*64 + (epoch-1)*len(train_data.dataset))\n",
        "\n",
        "  return losses, counter"
      ],
      "execution_count": 53,
      "outputs": []
    },
    {
      "cell_type": "code",
      "metadata": {
        "id": "yS3ZR8l8vfQL"
      },
      "source": [
        "def test_gt(network, test_data, device):\n",
        "  network.eval()\n",
        "\n",
        "  loss = 0\n",
        "  correct = 0\n",
        "  with torch.no_grad():\n",
        "    for data, target in test_data:\n",
        "      data = data.to(device)\n",
        "      target = target.to(device)\n",
        "\n",
        "      output = network(data)\n",
        "      loss += F.mse_loss(output, target, reduction=\"sum\").item()\n",
        "      prediction = output.data.max(1, keepdim=True)[1]\n",
        "\n",
        "  loss /= len(test_data.dataset)\n",
        "\n",
        "  print('\\nTest loss: {:.3f}'.format(\n",
        "      loss\n",
        "  ))\n",
        "\n",
        "  return loss"
      ],
      "execution_count": 54,
      "outputs": []
    },
    {
      "cell_type": "code",
      "metadata": {
        "id": "2ZcisoyXvyfp"
      },
      "source": [
        "def train_gt(network, train_data, test_data, device='cuda'):\n",
        "  test_loss = []\n",
        "  train_loss = []\n",
        "  counter = []\n",
        "\n",
        "  # testiramo pocetni model\n",
        "  loss_t = test_gt(network, test_data, device)\n",
        "  test_loss.append(loss_t)\n",
        "\n",
        "  for epoch in range(1, n_epochs+1):\n",
        "    # korak i test\n",
        "    loss, cnt = train_step_gt(network, train_data, epoch, device)\n",
        "    loss_t = test_gt(network, test_data, device)\n",
        "\n",
        "    test_loss.append(loss_t)\n",
        "    train_loss.append(loss)\n",
        "    counter.append(cnt)\n",
        "\n",
        "  return test_loss, train_loss, counter"
      ],
      "execution_count": 55,
      "outputs": []
    },
    {
      "cell_type": "code",
      "metadata": {
        "id": "86udQNUswEYF"
      },
      "source": [
        "procjena = Net(klasifikacija).to(device)\n",
        "optimizer = optim.Adam(procjena.parameters(), lr=learning_rate)"
      ],
      "execution_count": 60,
      "outputs": []
    },
    {
      "cell_type": "code",
      "metadata": {
        "colab": {
          "base_uri": "https://localhost:8080/"
        },
        "id": "WNyAYQmHwRqC",
        "outputId": "e433d459-a6f1-4a93-d668-98acb23e7286"
      },
      "source": [
        "test_loss, train_loss, counter = train_gt(procjena, train_loader_gt, test_loader_gt, device)"
      ],
      "execution_count": 61,
      "outputs": [
        {
          "output_type": "stream",
          "text": [
            "\n",
            "Test loss: 0.245\n",
            "Train Epoch:  1, ( 0%), Loss: 0.08820\n",
            "Train Epoch:  1, (23%), Loss: 0.06939\n",
            "Train Epoch:  1, (47%), Loss: 0.06252\n",
            "Train Epoch:  1, (70%), Loss: 0.05057\n",
            "Train Epoch:  1, (94%), Loss: 0.05482\n",
            "\n",
            "Test loss: 0.226\n",
            "Train Epoch:  2, ( 0%), Loss: 0.03487\n",
            "Train Epoch:  2, (23%), Loss: 0.04940\n",
            "Train Epoch:  2, (47%), Loss: 0.02438\n",
            "Train Epoch:  2, (70%), Loss: 0.03671\n",
            "Train Epoch:  2, (94%), Loss: 0.02731\n",
            "\n",
            "Test loss: 0.206\n",
            "Train Epoch:  3, ( 0%), Loss: 0.02865\n",
            "Train Epoch:  3, (23%), Loss: 0.01963\n",
            "Train Epoch:  3, (47%), Loss: 0.03927\n",
            "Train Epoch:  3, (70%), Loss: 0.01708\n",
            "Train Epoch:  3, (94%), Loss: 0.01113\n",
            "\n",
            "Test loss: 0.167\n",
            "Train Epoch:  4, ( 0%), Loss: 0.01310\n",
            "Train Epoch:  4, (23%), Loss: 0.01376\n",
            "Train Epoch:  4, (47%), Loss: 0.01352\n",
            "Train Epoch:  4, (70%), Loss: 0.01004\n",
            "Train Epoch:  4, (94%), Loss: 0.00934\n",
            "\n",
            "Test loss: 0.095\n",
            "Train Epoch:  5, ( 0%), Loss: 0.00984\n",
            "Train Epoch:  5, (23%), Loss: 0.00652\n",
            "Train Epoch:  5, (47%), Loss: 0.00929\n",
            "Train Epoch:  5, (70%), Loss: 0.00603\n",
            "Train Epoch:  5, (94%), Loss: 0.00694\n",
            "\n",
            "Test loss: 0.031\n",
            "Train Epoch:  6, ( 0%), Loss: 0.00787\n",
            "Train Epoch:  6, (23%), Loss: 0.01135\n",
            "Train Epoch:  6, (47%), Loss: 0.00627\n",
            "Train Epoch:  6, (70%), Loss: 0.00810\n",
            "Train Epoch:  6, (94%), Loss: 0.00476\n",
            "\n",
            "Test loss: 0.053\n",
            "Train Epoch:  7, ( 0%), Loss: 0.00647\n",
            "Train Epoch:  7, (23%), Loss: 0.00704\n",
            "Train Epoch:  7, (47%), Loss: 0.00803\n",
            "Train Epoch:  7, (70%), Loss: 0.00588\n",
            "Train Epoch:  7, (94%), Loss: 0.00358\n",
            "\n",
            "Test loss: 0.021\n",
            "Train Epoch:  8, ( 0%), Loss: 0.00469\n",
            "Train Epoch:  8, (23%), Loss: 0.00926\n",
            "Train Epoch:  8, (47%), Loss: 0.00940\n",
            "Train Epoch:  8, (70%), Loss: 0.00560\n",
            "Train Epoch:  8, (94%), Loss: 0.00293\n",
            "\n",
            "Test loss: 0.057\n",
            "Train Epoch:  9, ( 0%), Loss: 0.00251\n",
            "Train Epoch:  9, (23%), Loss: 0.00404\n",
            "Train Epoch:  9, (47%), Loss: 0.00493\n",
            "Train Epoch:  9, (70%), Loss: 0.00367\n",
            "Train Epoch:  9, (94%), Loss: 0.00853\n",
            "\n",
            "Test loss: 0.032\n",
            "Train Epoch: 10, ( 0%), Loss: 0.00475\n",
            "Train Epoch: 10, (23%), Loss: 0.00720\n",
            "Train Epoch: 10, (47%), Loss: 0.00436\n",
            "Train Epoch: 10, (70%), Loss: 0.00454\n",
            "Train Epoch: 10, (94%), Loss: 0.00359\n",
            "\n",
            "Test loss: 0.020\n"
          ],
          "name": "stdout"
        }
      ]
    },
    {
      "cell_type": "code",
      "metadata": {
        "id": "c-7s2vvd8wEk"
      },
      "source": [
        "torch.save(procjena.state_dict(), './procjena.pth')"
      ],
      "execution_count": 62,
      "outputs": []
    },
    {
      "cell_type": "code",
      "metadata": {
        "colab": {
          "base_uri": "https://localhost:8080/",
          "height": 424
        },
        "id": "mLVxDlNKwXwO",
        "outputId": "3cfa51e6-2fce-4856-cb2f-37561fc06668"
      },
      "source": [
        "counter = np.array(counter).flatten()\n",
        "train_loss = np.array(train_loss).flatten()\n",
        "\n",
        "plt.figure(figsize=(19, 6))\n",
        "\n",
        "plt.plot(counter[1::5], test_loss[1:])\n",
        "\n",
        "plt.legend()\n",
        "plt.grid()\n",
        "plt.ylabel(\"Test loss\")\n",
        "plt.xlabel(\"Steps\")"
      ],
      "execution_count": 64,
      "outputs": [
        {
          "output_type": "stream",
          "text": [
            "No handles with labels found to put in legend.\n"
          ],
          "name": "stderr"
        },
        {
          "output_type": "execute_result",
          "data": {
            "text/plain": [
              "Text(0.5, 0, 'Steps')"
            ]
          },
          "metadata": {
            "tags": []
          },
          "execution_count": 64
        },
        {
          "output_type": "display_data",
          "data": {
            "image/png": "[encoded data removed]",
            "text/plain": [
              "<Figure size 1368x432 with 1 Axes>"
            ]
          },
          "metadata": {
            "tags": [],
            "needs_background": "light"
          }
        }
      ]
    }
  ]
}