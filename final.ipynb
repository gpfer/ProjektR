{
  "nbformat": 4,
  "nbformat_minor": 0,
  "metadata": {
    "colab": {
      "name": "final.ipynb",
      "provenance": [],
      "collapsed_sections": [],
      "authorship_tag": "ABX9TyO/kORcaSoSFtUUEdiTXIfu",
      "include_colab_link": true
    },
    "kernelspec": {
      "name": "python3",
      "display_name": "Python 3"
    }
  },
  "cells": [
    {
      "cell_type": "markdown",
      "metadata": {
        "id": "view-in-github",
        "colab_type": "text"
      },
      "source": [
        "<a href=\"https://colab.research.google.com/github/gpfer/projektR/blob/main/final.ipynb\" target=\"_parent\"><img src=\"https://colab.research.google.com/assets/colab-badge.svg\" alt=\"Open In Colab\"/></a>"
      ]
    },
    {
      "cell_type": "code",
      "metadata": {
        "id": "Ttju3A8iUQoY"
      },
      "source": [
        "import torch\n",
        "import torch.nn as nn\n",
        "import torchvision\n",
        "import torch.nn.functional as F\n",
        "import torch.optim as optim\n",
        "from torch.utils.data import TensorDataset, Dataset, DataLoader\n",
        "from torchvision import transforms"
      ],
      "execution_count": 39,
      "outputs": []
    },
    {
      "cell_type": "code",
      "metadata": {
        "colab": {
          "base_uri": "https://localhost:8080/"
        },
        "id": "Oj9vJ-hLjvR6",
        "outputId": "1a330eb3-0674-4beb-9316-cbca944deb61"
      },
      "source": [
        "from google.colab import drive\n",
        "drive.mount('/content/drive') "
      ],
      "execution_count": 40,
      "outputs": [
        {
          "output_type": "stream",
          "text": [
            "Drive already mounted at /content/drive; to attempt to forcibly remount, call drive.mount(\"/content/drive\", force_remount=True).\n"
          ],
          "name": "stdout"
        }
      ]
    },
    {
      "cell_type": "markdown",
      "metadata": {
        "id": "9diuEMlAp7Ko"
      },
      "source": [
        "Dohvati klase i ground truth"
      ]
    },
    {
      "cell_type": "code",
      "metadata": {
        "id": "GmHilsl8jxLE"
      },
      "source": [
        "import base64\n",
        "import requests\n",
        "\n",
        "labels_cls = \"https://raw.githubusercontent.com/gpfer/projektR/main/dataset/klasifikacija.csv\"\n",
        "labels_cls = requests.get(labels_cls)\n",
        "labels_cls = labels_cls.text\n",
        "\n",
        "labels_gt = \"https://raw.githubusercontent.com/gpfer/projektR/main/dataset/cube%2B_gt.txt\"\n",
        "labels_gt = requests.get(labels_gt)\n",
        "labels_gt = labels_gt.text"
      ],
      "execution_count": 41,
      "outputs": []
    },
    {
      "cell_type": "markdown",
      "metadata": {
        "id": "wggmxoKjqDTc"
      },
      "source": [
        "Obrada labela"
      ]
    },
    {
      "cell_type": "code",
      "metadata": {
        "colab": {
          "base_uri": "https://localhost:8080/"
        },
        "id": "Pgh8i274p5YO",
        "outputId": "ae9ac054-926b-455e-aae6-b4ea0244ae7b"
      },
      "source": [
        "import numpy as np\n",
        "import io\n",
        "\n",
        "labels_cls = labels_cls.split('\\n')\n",
        "\n",
        "nd = []\n",
        "for line in labels_cls[1:1708]:\n",
        "    line = line.split(',')\n",
        "    num = int(line[0])\n",
        "    val = line[1] + '-' + line[2]\n",
        "    if val.startswith('in'):\n",
        "        val = 'in'\n",
        "    nd.append([num, val])\n",
        "\n",
        "data = np.array(nd)\n",
        "\n",
        "cats = np.unique(data[:, 1])\n",
        "print(cats)\n",
        "new_data = []\n",
        "for d in data:\n",
        "  new_data.append(np.where(cats == d[1])[0][0])\n",
        "labels_cls = torch.LongTensor(new_data)\n",
        "labels_cls"
      ],
      "execution_count": 42,
      "outputs": [
        {
          "output_type": "stream",
          "text": [
            "['in' 'out-day' 'out-night']\n"
          ],
          "name": "stdout"
        },
        {
          "output_type": "execute_result",
          "data": {
            "text/plain": [
              "tensor([1, 1, 1,  ..., 2, 1, 1])"
            ]
          },
          "metadata": {
            "tags": []
          },
          "execution_count": 42
        }
      ]
    },
    {
      "cell_type": "code",
      "metadata": {
        "colab": {
          "base_uri": "https://localhost:8080/"
        },
        "id": "W9KRc1aZrGny",
        "outputId": "1233901e-a538-4718-d7ac-b083e920b17a"
      },
      "source": [
        "labels_gt = labels_gt.split('\\n')\n",
        "\n",
        "nd = []\n",
        "for line in labels_gt[:-1]:\n",
        "    gt = []\n",
        "    line = line.split(' ')\n",
        "    gt.append(float(line[0]))\n",
        "    gt.append(float(line[1]))\n",
        "    gt.append(float(line[2]))\n",
        "\n",
        "    nd.append(gt)\n",
        "\n",
        "labels_gt = torch.FloatTensor(nd)\n",
        "labels_gt"
      ],
      "execution_count": 43,
      "outputs": [
        {
          "output_type": "execute_result",
          "data": {
            "text/plain": [
              "tensor([[0.1624, 0.4533, 0.3844],\n",
              "        [0.2027, 0.4695, 0.3278],\n",
              "        [0.2040, 0.4714, 0.3246],\n",
              "        ...,\n",
              "        [0.4779, 0.4416, 0.0806],\n",
              "        [0.2037, 0.4708, 0.3254],\n",
              "        [0.3866, 0.4606, 0.1528]])"
            ]
          },
          "metadata": {
            "tags": []
          },
          "execution_count": 43
        }
      ]
    },
    {
      "cell_type": "markdown",
      "metadata": {
        "id": "ksTFQkXPs36q"
      },
      "source": [
        "Ucitavanje slika"
      ]
    },
    {
      "cell_type": "code",
      "metadata": {
        "colab": {
          "base_uri": "https://localhost:8080/"
        },
        "id": "41JSuBM5s0i5",
        "outputId": "d24de3da-2763-448c-8436-0b0c718dbe22"
      },
      "source": [
        "from PIL import Image\n",
        "\n",
        "root = \"/content/drive/My Drive/PNG\"\n",
        "\n",
        "train_images = []\n",
        "test_images = []\n",
        "\n",
        "for i in range(1, 1708):\n",
        "    name = str(i) + \".PNG\"\n",
        "    img = Image.open(root + '/' + name)\n",
        "    basewidth = 128\n",
        "    wpercent = (basewidth/float(img.size[0]))\n",
        "    hsize = int((float(img.size[1])*float(wpercent)))\n",
        "    img = img.resize((basewidth,hsize), Image.ANTIALIAS)\n",
        "    arr = transforms.ToTensor()(img)\n",
        "    arr = arr - 2048 / 65536\n",
        "    arr[arr<0] = 0\n",
        "    if i < int(0.8*1707):\n",
        "        train_images.append(arr)\n",
        "    else:\n",
        "        test_images.append(arr)\n",
        "print()\n",
        "train_images = torch.stack(train_images)\n",
        "test_images = torch.stack(test_images)\n",
        "train_images\n",
        "test_images"
      ],
      "execution_count": 44,
      "outputs": [
        {
          "output_type": "stream",
          "text": [
            "\n"
          ],
          "name": "stdout"
        },
        {
          "output_type": "execute_result",
          "data": {
            "text/plain": [
              "tensor([[[[9.0319e-02, 9.0319e-02, 9.0319e-02,  ..., 4.7181e-02,\n",
              "           5.1103e-02, 5.1103e-02],\n",
              "          [9.0319e-02, 9.0319e-02, 9.0319e-02,  ..., 4.7181e-02,\n",
              "           4.7181e-02, 5.1103e-02],\n",
              "          [9.0319e-02, 9.0319e-02, 9.0319e-02,  ..., 4.7181e-02,\n",
              "           4.7181e-02, 4.7181e-02],\n",
              "          ...,\n",
              "          [7.8554e-02, 7.8554e-02, 7.8554e-02,  ..., 1.2255e-04,\n",
              "           1.2255e-04, 1.2255e-04],\n",
              "          [8.2475e-02, 8.2475e-02, 8.2475e-02,  ..., 1.2255e-04,\n",
              "           1.2255e-04, 1.2255e-04],\n",
              "          [8.2475e-02, 8.2475e-02, 8.2475e-02,  ..., 1.2255e-04,\n",
              "           1.2255e-04, 4.0441e-03]],\n",
              "\n",
              "         [[1.0600e-01, 1.0600e-01, 1.0600e-01,  ..., 4.3260e-02,\n",
              "           4.3260e-02, 4.7181e-02],\n",
              "          [1.0600e-01, 1.0600e-01, 1.0600e-01,  ..., 4.3260e-02,\n",
              "           4.3260e-02, 4.3260e-02],\n",
              "          [1.0600e-01, 1.0600e-01, 1.0600e-01,  ..., 4.3260e-02,\n",
              "           4.3260e-02, 4.3260e-02],\n",
              "          ...,\n",
              "          [9.4240e-02, 9.4240e-02, 9.8162e-02,  ..., 1.2255e-04,\n",
              "           1.2255e-04, 1.2255e-04],\n",
              "          [9.4240e-02, 9.4240e-02, 9.8162e-02,  ..., 1.2255e-04,\n",
              "           4.0441e-03, 4.0441e-03],\n",
              "          [9.8162e-02, 9.8162e-02, 9.8162e-02,  ..., 1.2255e-04,\n",
              "           4.0441e-03, 4.0441e-03]],\n",
              "\n",
              "         [[3.5417e-02, 3.5417e-02, 3.5417e-02,  ..., 1.1887e-02,\n",
              "           1.1887e-02, 1.1887e-02],\n",
              "          [3.5417e-02, 3.5417e-02, 3.5417e-02,  ..., 1.1887e-02,\n",
              "           1.1887e-02, 1.1887e-02],\n",
              "          [3.5417e-02, 3.5417e-02, 3.5417e-02,  ..., 1.1887e-02,\n",
              "           1.1887e-02, 1.1887e-02],\n",
              "          ...,\n",
              "          [2.7574e-02, 2.7574e-02, 2.7574e-02,  ..., 1.2255e-04,\n",
              "           1.2255e-04, 1.2255e-04],\n",
              "          [2.7574e-02, 2.7574e-02, 2.7574e-02,  ..., 1.2255e-04,\n",
              "           1.2255e-04, 1.2255e-04],\n",
              "          [2.7574e-02, 2.7574e-02, 2.7574e-02,  ..., 1.2255e-04,\n",
              "           1.2255e-04, 1.2255e-04]]],\n",
              "\n",
              "\n",
              "        [[[4.0441e-03, 4.0441e-03, 7.9657e-03,  ..., 7.9657e-03,\n",
              "           7.9657e-03, 7.9657e-03],\n",
              "          [7.9657e-03, 7.9657e-03, 4.0441e-03,  ..., 7.9657e-03,\n",
              "           7.9657e-03, 7.9657e-03],\n",
              "          [7.9657e-03, 7.9657e-03, 4.0441e-03,  ..., 7.9657e-03,\n",
              "           7.9657e-03, 7.9657e-03],\n",
              "          ...,\n",
              "          [1.2255e-04, 1.2255e-04, 1.2255e-04,  ..., 1.5809e-02,\n",
              "           1.1887e-02, 1.1887e-02],\n",
              "          [4.0441e-03, 4.0441e-03, 4.0441e-03,  ..., 1.1887e-02,\n",
              "           1.1887e-02, 1.1887e-02],\n",
              "          [4.0441e-03, 4.0441e-03, 4.0441e-03,  ..., 1.1887e-02,\n",
              "           1.1887e-02, 7.9657e-03]],\n",
              "\n",
              "         [[1.1887e-02, 1.1887e-02, 1.1887e-02,  ..., 1.9730e-02,\n",
              "           1.9730e-02, 1.5809e-02],\n",
              "          [1.1887e-02, 1.5809e-02, 1.1887e-02,  ..., 1.9730e-02,\n",
              "           1.9730e-02, 1.5809e-02],\n",
              "          [1.1887e-02, 1.1887e-02, 1.1887e-02,  ..., 1.9730e-02,\n",
              "           1.5809e-02, 1.9730e-02],\n",
              "          ...,\n",
              "          [4.0441e-03, 4.0441e-03, 4.0441e-03,  ..., 2.7574e-02,\n",
              "           2.7574e-02, 2.7574e-02],\n",
              "          [7.9657e-03, 7.9657e-03, 1.1887e-02,  ..., 2.3652e-02,\n",
              "           1.9730e-02, 2.3652e-02],\n",
              "          [1.1887e-02, 1.5809e-02, 1.5809e-02,  ..., 2.3652e-02,\n",
              "           2.3652e-02, 1.9730e-02]],\n",
              "\n",
              "         [[7.9657e-03, 7.9657e-03, 7.9657e-03,  ..., 1.1887e-02,\n",
              "           1.1887e-02, 7.9657e-03],\n",
              "          [7.9657e-03, 7.9657e-03, 7.9657e-03,  ..., 1.1887e-02,\n",
              "           1.1887e-02, 7.9657e-03],\n",
              "          [7.9657e-03, 7.9657e-03, 7.9657e-03,  ..., 1.1887e-02,\n",
              "           1.1887e-02, 1.1887e-02],\n",
              "          ...,\n",
              "          [4.0441e-03, 4.0441e-03, 4.0441e-03,  ..., 1.5809e-02,\n",
              "           1.1887e-02, 1.5809e-02],\n",
              "          [4.0441e-03, 4.0441e-03, 7.9657e-03,  ..., 1.1887e-02,\n",
              "           1.1887e-02, 1.5809e-02],\n",
              "          [7.9657e-03, 7.9657e-03, 7.9657e-03,  ..., 1.1887e-02,\n",
              "           1.5809e-02, 1.1887e-02]]],\n",
              "\n",
              "\n",
              "        [[[5.8946e-02, 5.8946e-02, 5.8946e-02,  ..., 2.3652e-02,\n",
              "           2.3652e-02, 2.3652e-02],\n",
              "          [6.2868e-02, 6.2868e-02, 5.8946e-02,  ..., 2.3652e-02,\n",
              "           2.3652e-02, 2.3652e-02],\n",
              "          [6.2868e-02, 6.2868e-02, 6.2868e-02,  ..., 2.3652e-02,\n",
              "           2.3652e-02, 2.3652e-02],\n",
              "          ...,\n",
              "          [1.1887e-02, 1.1887e-02, 1.1887e-02,  ..., 4.0441e-03,\n",
              "           4.0441e-03, 4.0441e-03],\n",
              "          [1.1887e-02, 1.1887e-02, 1.1887e-02,  ..., 7.9657e-03,\n",
              "           7.9657e-03, 7.9657e-03],\n",
              "          [1.1887e-02, 1.1887e-02, 1.1887e-02,  ..., 7.9657e-03,\n",
              "           7.9657e-03, 7.9657e-03]],\n",
              "\n",
              "         [[1.4130e-01, 1.4130e-01, 1.4522e-01,  ..., 4.3260e-02,\n",
              "           4.7181e-02, 4.7181e-02],\n",
              "          [1.4522e-01, 1.4522e-01, 1.4522e-01,  ..., 4.7181e-02,\n",
              "           4.7181e-02, 4.7181e-02],\n",
              "          [1.5306e-01, 1.5306e-01, 1.4522e-01,  ..., 4.7181e-02,\n",
              "           4.7181e-02, 4.7181e-02],\n",
              "          ...,\n",
              "          [2.7574e-02, 2.7574e-02, 2.7574e-02,  ..., 1.1887e-02,\n",
              "           1.5809e-02, 1.5809e-02],\n",
              "          [2.7574e-02, 2.7574e-02, 2.7574e-02,  ..., 1.5809e-02,\n",
              "           1.5809e-02, 1.5809e-02],\n",
              "          [2.7574e-02, 2.7574e-02, 2.7574e-02,  ..., 1.5809e-02,\n",
              "           1.5809e-02, 1.5809e-02]],\n",
              "\n",
              "         [[1.0208e-01, 9.8162e-02, 9.8162e-02,  ..., 2.3652e-02,\n",
              "           2.3652e-02, 2.3652e-02],\n",
              "          [1.0208e-01, 9.8162e-02, 9.8162e-02,  ..., 2.3652e-02,\n",
              "           2.3652e-02, 2.3652e-02],\n",
              "          [1.0208e-01, 1.0600e-01, 1.0208e-01,  ..., 2.3652e-02,\n",
              "           2.3652e-02, 2.7574e-02],\n",
              "          ...,\n",
              "          [1.5809e-02, 1.5809e-02, 1.5809e-02,  ..., 4.0441e-03,\n",
              "           4.0441e-03, 4.0441e-03],\n",
              "          [1.5809e-02, 1.5809e-02, 1.5809e-02,  ..., 7.9657e-03,\n",
              "           7.9657e-03, 7.9657e-03],\n",
              "          [1.5809e-02, 1.5809e-02, 1.5809e-02,  ..., 7.9657e-03,\n",
              "           7.9657e-03, 7.9657e-03]]],\n",
              "\n",
              "\n",
              "        ...,\n",
              "\n",
              "\n",
              "        [[[1.5809e-02, 1.5809e-02, 1.5809e-02,  ..., 1.2255e-04,\n",
              "           1.2255e-04, 1.2255e-04],\n",
              "          [1.5809e-02, 1.5809e-02, 1.5809e-02,  ..., 4.0441e-03,\n",
              "           1.2255e-04, 1.2255e-04],\n",
              "          [1.5809e-02, 1.5809e-02, 1.5809e-02,  ..., 4.0441e-03,\n",
              "           1.2255e-04, 1.2255e-04],\n",
              "          ...,\n",
              "          [1.1887e-02, 1.1887e-02, 1.1887e-02,  ..., 7.9657e-03,\n",
              "           4.0441e-03, 4.0441e-03],\n",
              "          [1.1887e-02, 1.1887e-02, 1.1887e-02,  ..., 4.0441e-03,\n",
              "           4.0441e-03, 4.0441e-03],\n",
              "          [1.1887e-02, 1.1887e-02, 1.1887e-02,  ..., 4.0441e-03,\n",
              "           7.9657e-03, 4.0441e-03]],\n",
              "\n",
              "         [[1.5809e-02, 1.5809e-02, 1.5809e-02,  ..., 1.2255e-04,\n",
              "           1.2255e-04, 1.2255e-04],\n",
              "          [1.5809e-02, 1.5809e-02, 1.5809e-02,  ..., 4.0441e-03,\n",
              "           1.2255e-04, 1.2255e-04],\n",
              "          [1.5809e-02, 1.5809e-02, 1.5809e-02,  ..., 4.0441e-03,\n",
              "           1.2255e-04, 1.2255e-04],\n",
              "          ...,\n",
              "          [7.9657e-03, 7.9657e-03, 1.1887e-02,  ..., 4.0441e-03,\n",
              "           4.0441e-03, 4.0441e-03],\n",
              "          [7.9657e-03, 1.1887e-02, 1.1887e-02,  ..., 4.0441e-03,\n",
              "           4.0441e-03, 4.0441e-03],\n",
              "          [7.9657e-03, 7.9657e-03, 7.9657e-03,  ..., 4.0441e-03,\n",
              "           4.0441e-03, 4.0441e-03]],\n",
              "\n",
              "         [[1.2255e-04, 1.2255e-04, 1.2255e-04,  ..., 1.2255e-04,\n",
              "           1.2255e-04, 1.2255e-04],\n",
              "          [1.2255e-04, 1.2255e-04, 1.2255e-04,  ..., 1.2255e-04,\n",
              "           1.2255e-04, 1.2255e-04],\n",
              "          [1.2255e-04, 1.2255e-04, 1.2255e-04,  ..., 1.2255e-04,\n",
              "           1.2255e-04, 1.2255e-04],\n",
              "          ...,\n",
              "          [1.2255e-04, 1.2255e-04, 1.2255e-04,  ..., 1.2255e-04,\n",
              "           1.2255e-04, 1.2255e-04],\n",
              "          [1.2255e-04, 1.2255e-04, 1.2255e-04,  ..., 1.2255e-04,\n",
              "           1.2255e-04, 1.2255e-04],\n",
              "          [1.2255e-04, 1.2255e-04, 1.2255e-04,  ..., 1.2255e-04,\n",
              "           1.2255e-04, 1.2255e-04]]],\n",
              "\n",
              "\n",
              "        [[[4.7181e-02, 4.7181e-02, 4.7181e-02,  ..., 5.5025e-02,\n",
              "           5.5025e-02, 5.1103e-02],\n",
              "          [4.7181e-02, 4.7181e-02, 5.1103e-02,  ..., 5.5025e-02,\n",
              "           5.5025e-02, 5.5025e-02],\n",
              "          [5.1103e-02, 4.7181e-02, 5.1103e-02,  ..., 5.5025e-02,\n",
              "           5.5025e-02, 5.5025e-02],\n",
              "          ...,\n",
              "          [7.9657e-03, 7.9657e-03, 7.9657e-03,  ..., 1.1887e-02,\n",
              "           1.1887e-02, 7.9657e-03],\n",
              "          [4.0441e-03, 7.9657e-03, 4.0441e-03,  ..., 1.1887e-02,\n",
              "           1.1887e-02, 1.1887e-02],\n",
              "          [4.0441e-03, 4.0441e-03, 4.0441e-03,  ..., 7.9657e-03,\n",
              "           7.9657e-03, 1.1887e-02]],\n",
              "\n",
              "         [[1.1777e-01, 1.1777e-01, 1.1385e-01,  ..., 1.2561e-01,\n",
              "           1.2169e-01, 1.2169e-01],\n",
              "          [1.0993e-01, 1.1385e-01, 1.1777e-01,  ..., 1.2561e-01,\n",
              "           1.2561e-01, 1.2953e-01],\n",
              "          [1.1777e-01, 1.2169e-01, 1.2169e-01,  ..., 1.2169e-01,\n",
              "           1.2169e-01, 1.2169e-01],\n",
              "          ...,\n",
              "          [1.5809e-02, 1.5809e-02, 1.5809e-02,  ..., 1.9730e-02,\n",
              "           1.9730e-02, 1.9730e-02],\n",
              "          [1.1887e-02, 1.5809e-02, 1.1887e-02,  ..., 2.3652e-02,\n",
              "           2.3652e-02, 2.3652e-02],\n",
              "          [1.1887e-02, 1.1887e-02, 1.5809e-02,  ..., 1.9730e-02,\n",
              "           1.9730e-02, 2.3652e-02]],\n",
              "\n",
              "         [[8.2475e-02, 8.2475e-02, 7.8554e-02,  ..., 8.6397e-02,\n",
              "           8.2475e-02, 8.6397e-02],\n",
              "          [7.8554e-02, 7.8554e-02, 7.8554e-02,  ..., 8.6397e-02,\n",
              "           8.6397e-02, 9.0319e-02],\n",
              "          [8.2475e-02, 8.2475e-02, 8.2475e-02,  ..., 8.2475e-02,\n",
              "           8.6397e-02, 8.6397e-02],\n",
              "          ...,\n",
              "          [7.9657e-03, 7.9657e-03, 7.9657e-03,  ..., 7.9657e-03,\n",
              "           7.9657e-03, 7.9657e-03],\n",
              "          [7.9657e-03, 4.0441e-03, 4.0441e-03,  ..., 1.1887e-02,\n",
              "           1.1887e-02, 1.1887e-02],\n",
              "          [7.9657e-03, 7.9657e-03, 7.9657e-03,  ..., 1.1887e-02,\n",
              "           1.1887e-02, 1.1887e-02]]],\n",
              "\n",
              "\n",
              "        [[[3.9338e-02, 3.9338e-02, 3.9338e-02,  ..., 3.1495e-02,\n",
              "           3.1495e-02, 3.1495e-02],\n",
              "          [3.9338e-02, 3.9338e-02, 3.9338e-02,  ..., 3.1495e-02,\n",
              "           3.1495e-02, 3.1495e-02],\n",
              "          [3.9338e-02, 3.9338e-02, 3.9338e-02,  ..., 3.1495e-02,\n",
              "           3.1495e-02, 3.1495e-02],\n",
              "          ...,\n",
              "          [4.3260e-02, 4.3260e-02, 4.3260e-02,  ..., 2.7574e-02,\n",
              "           2.7574e-02, 2.7574e-02],\n",
              "          [4.3260e-02, 4.3260e-02, 4.3260e-02,  ..., 2.7574e-02,\n",
              "           2.7574e-02, 2.7574e-02],\n",
              "          [4.3260e-02, 4.3260e-02, 4.3260e-02,  ..., 2.7574e-02,\n",
              "           2.7574e-02, 2.7574e-02]],\n",
              "\n",
              "         [[4.7181e-02, 4.7181e-02, 4.7181e-02,  ..., 3.5417e-02,\n",
              "           3.9338e-02, 3.9338e-02],\n",
              "          [4.7181e-02, 4.7181e-02, 4.7181e-02,  ..., 3.9338e-02,\n",
              "           3.9338e-02, 3.9338e-02],\n",
              "          [4.7181e-02, 4.7181e-02, 4.7181e-02,  ..., 3.9338e-02,\n",
              "           3.9338e-02, 3.9338e-02],\n",
              "          ...,\n",
              "          [5.1103e-02, 5.1103e-02, 5.1103e-02,  ..., 3.5417e-02,\n",
              "           3.5417e-02, 3.5417e-02],\n",
              "          [5.1103e-02, 5.1103e-02, 5.1103e-02,  ..., 3.5417e-02,\n",
              "           3.5417e-02, 3.5417e-02],\n",
              "          [5.1103e-02, 5.1103e-02, 5.1103e-02,  ..., 3.5417e-02,\n",
              "           3.5417e-02, 3.5417e-02]],\n",
              "\n",
              "         [[1.1887e-02, 1.1887e-02, 1.1887e-02,  ..., 1.1887e-02,\n",
              "           1.1887e-02, 1.1887e-02],\n",
              "          [1.1887e-02, 1.1887e-02, 1.1887e-02,  ..., 1.1887e-02,\n",
              "           1.1887e-02, 1.1887e-02],\n",
              "          [1.1887e-02, 1.1887e-02, 1.1887e-02,  ..., 1.1887e-02,\n",
              "           1.1887e-02, 1.1887e-02],\n",
              "          ...,\n",
              "          [1.5809e-02, 1.5809e-02, 1.5809e-02,  ..., 7.9657e-03,\n",
              "           1.1887e-02, 1.1887e-02],\n",
              "          [1.5809e-02, 1.5809e-02, 1.5809e-02,  ..., 7.9657e-03,\n",
              "           1.1887e-02, 7.9657e-03],\n",
              "          [1.5809e-02, 1.5809e-02, 1.5809e-02,  ..., 1.1887e-02,\n",
              "           1.1887e-02, 7.9657e-03]]]])"
            ]
          },
          "metadata": {
            "tags": []
          },
          "execution_count": 44
        }
      ]
    },
    {
      "cell_type": "code",
      "metadata": {
        "id": "dwxrTy63u5fe"
      },
      "source": [
        "train_labels_cls = labels_cls[:int(0.8*len(labels_cls))-1]\n",
        "test_labels_cls = labels_cls[int(0.8*len(labels_cls))-1:]\n",
        "\n",
        "train_labels_gt = labels_gt[:int(0.8*len(labels_gt))-1]\n",
        "test_labels_gt = labels_gt[int(0.8*len(labels_gt))-1:]"
      ],
      "execution_count": 45,
      "outputs": []
    },
    {
      "cell_type": "code",
      "metadata": {
        "id": "6wP9wR1nF5de"
      },
      "source": [
        "train_dataset_cls = TensorDataset(train_images, train_labels_cls)\n",
        "test_dataset_cls = TensorDataset(test_images, test_labels_cls)\n",
        "\n",
        "train_dataset_gt = TensorDataset(train_images, train_labels_gt)\n",
        "test_dataset_gt = TensorDataset(test_images, test_labels_gt)\n",
        "\n",
        "train_loader_cls = DataLoader(train_dataset_cls, batch_size=64, shuffle=True)\n",
        "test_loader_cls = DataLoader(test_dataset_cls, batch_size=64, shuffle=True)\n",
        "\n",
        "train_loader_gt = DataLoader(train_dataset_gt, batch_size=64, shuffle=True)\n",
        "test_loader_gt = DataLoader(test_dataset_gt, batch_size=64, shuffle=True)"
      ],
      "execution_count": 46,
      "outputs": []
    },
    {
      "cell_type": "markdown",
      "metadata": {
        "id": "UTvE9HPGL23g"
      },
      "source": [
        "# Teniranje klasifikatora"
      ]
    },
    {
      "cell_type": "markdown",
      "metadata": {
        "id": "8AzuPkQQMkDi"
      },
      "source": [
        "Keiranje modela za klasifikaciju"
      ]
    },
    {
      "cell_type": "code",
      "metadata": {
        "id": "rMAILbE3L61-"
      },
      "source": [
        "class Net(nn.Module):\n",
        "  def __init__(self):\n",
        "    super(Net, self).__init__()\n",
        "\n",
        "    self.conv1 = nn.Conv2d(3, 16, kernel_size=5)\n",
        "    self.conv2 = nn.Conv2d(16, 32, kernel_size=5)\n",
        "    self.conv3 = nn.Conv2d(32, 64, kernel_size=5)\n",
        "\n",
        "    self.fc1 = nn.Linear(5376, 800)\n",
        "    self.fc2 = nn.Linear(800, 400)\n",
        "    self.fc3 = nn.Linear(400, 100)\n",
        "    self.fc4 = nn.Linear(100, 3)\n",
        "\n",
        "    self.batch = nn.BatchNorm1d(800)\n",
        "    \n",
        "    self.maxpool = nn.MaxPool2d(kernel_size=2)\n",
        "    self.relu = nn.ReLU(inplace=True)\n",
        "\n",
        "  def forward(self, x):\n",
        "    x = self.conv1(x)\n",
        "    x = self.relu(x)\n",
        "    x = self.maxpool(x)\n",
        "\n",
        "    x = self.conv2(x)\n",
        "    x = self.relu(x)\n",
        "    x = self.maxpool(x)\n",
        "\n",
        "    x = self.conv3(x)\n",
        "    x = self.relu(x)\n",
        "    x = self.maxpool(x)\n",
        "\n",
        "    x = x.view(-1, 5376)\n",
        "    x = self.fc1(x)\n",
        "    x = self.relu(x)\n",
        "\n",
        "    x = self.batch(x)\n",
        "\n",
        "    x = self.fc2(x)\n",
        "    x = self.relu(x)\n",
        "\n",
        "    x = self.fc3(x)\n",
        "    x = self.relu(x)\n",
        "\n",
        "    x = self.fc4(x)\n",
        "    x = self.relu(x)\n",
        "\n",
        "    return F.log_softmax(x, dim=1)"
      ],
      "execution_count": 67,
      "outputs": []
    },
    {
      "cell_type": "code",
      "metadata": {
        "id": "tWv3nSVNMbP4"
      },
      "source": [
        "n_epochs = 10\n",
        "learning_rate = 0.00005\n",
        "device = 'cpu'"
      ],
      "execution_count": 48,
      "outputs": []
    },
    {
      "cell_type": "markdown",
      "metadata": {
        "id": "Vps8xKS9NaYJ"
      },
      "source": [
        "Funkcije za treniranje i evaluaciju klasifikacije"
      ]
    },
    {
      "cell_type": "code",
      "metadata": {
        "id": "WC8jUYrQMeNp"
      },
      "source": [
        "def train_step_cls(network, train_data, epoch, device):\n",
        "  losses = []\n",
        "  counter = []\n",
        "\n",
        "  network.train()\n",
        "  for idx, (data, target) in enumerate(train_data):\n",
        "    data = data.to(device)\n",
        "    target = target.to(device)\n",
        "\n",
        "    network.zero_grad()\n",
        "    output = network(data)\n",
        "    loss = F.nll_loss(output, target)\n",
        "    loss.backward()\n",
        "    optimizer.step()\n",
        "\n",
        "    if idx % 5 == 0:\n",
        "      print('Train Epoch: {:2d}, ({:2.0f}%), Loss: {:.5f}'.format(\n",
        "          epoch, 100*idx*64/len(train_data.dataset), loss\n",
        "      ))\n",
        "      losses.append(loss)\n",
        "      counter.append(idx*64 + (epoch-1)*len(train_data.dataset))\n",
        "\n",
        "  return losses, counter"
      ],
      "execution_count": 49,
      "outputs": []
    },
    {
      "cell_type": "code",
      "metadata": {
        "id": "j2DvA4jVNizt"
      },
      "source": [
        "def test_cls(network, test_data, device):\n",
        "  network.eval()\n",
        "\n",
        "  loss = 0\n",
        "  correct = 0\n",
        "  with torch.no_grad():\n",
        "    for data, target in test_data:\n",
        "      data = data.to(device)\n",
        "      target = target.to(device)\n",
        "\n",
        "      output = network(data)\n",
        "      loss += F.nll_loss(output, target, reduction=\"sum\").item()\n",
        "      prediction = output.data.max(1, keepdim=True)[1]\n",
        "      correct += prediction.eq(target.data.view_as(prediction)).sum()\n",
        "\n",
        "  loss /= len(test_data.dataset)\n",
        "  accuracy = 100 * correct / len(test_data.dataset)\n",
        "\n",
        "  print('\\nTest loss: {:.3f}, Accuracy: {:4d}/{:4d} ({:2.2f}%)'.format(\n",
        "      loss, correct, len(test_data.dataset), accuracy\n",
        "  ))\n",
        "\n",
        "  return loss, accuracy"
      ],
      "execution_count": 50,
      "outputs": []
    },
    {
      "cell_type": "code",
      "metadata": {
        "id": "CDtOZIrCNpRt"
      },
      "source": [
        "def train_cls(network, train_data, test_data, device='cuda'):\n",
        "  test_loss = []\n",
        "  test_acc = []\n",
        "  train_loss = []\n",
        "  counter = []\n",
        "\n",
        "  # testiramo pocetni model\n",
        "  loss_t, acc_t = test_cls(network, test_data, device)\n",
        "  test_loss.append(loss_t)\n",
        "  test_acc.append(acc_t)\n",
        "\n",
        "  for epoch in range(1, n_epochs+1):\n",
        "    # korak i test\n",
        "    loss, cnt = train_step_cls(network, train_data, epoch, device)\n",
        "    loss_t, acc_t = test_cls(network, test_data, device)\n",
        "\n",
        "    test_loss.append(loss_t)\n",
        "    test_acc.append(acc_t)\n",
        "    train_loss.append(loss)\n",
        "    counter.append(cnt)\n",
        "\n",
        "  return test_loss, test_acc, train_loss, counter"
      ],
      "execution_count": 51,
      "outputs": []
    },
    {
      "cell_type": "markdown",
      "metadata": {
        "id": "doPS5lbEOAIP"
      },
      "source": [
        "Treniranje modela"
      ]
    },
    {
      "cell_type": "code",
      "metadata": {
        "id": "CrnscwegOC2Q"
      },
      "source": [
        "klasifikacija = Net().to(device)\n",
        "optimizer = optim.Adam(klasifikacija.parameters(), lr=learning_rate)"
      ],
      "execution_count": 70,
      "outputs": []
    },
    {
      "cell_type": "code",
      "metadata": {
        "colab": {
          "base_uri": "https://localhost:8080/"
        },
        "id": "h_bd8k7mOM4C",
        "outputId": "c7b14ade-0be9-47ae-ffe8-35a0d15c06f6"
      },
      "source": [
        "test_loss, test_acc, train_loss, counter = train_cls(klasifikacija, train_loader_cls, test_loader_cls, device)"
      ],
      "execution_count": 71,
      "outputs": [
        {
          "output_type": "stream",
          "text": [
            "\n",
            "Test loss: 1.096, Accuracy:  274/ 343 (79.88%)\n",
            "Train Epoch:  1, ( 0%), Loss: 1.09431\n",
            "Train Epoch:  1, (23%), Loss: 1.07103\n",
            "Train Epoch:  1, (47%), Loss: 1.04481\n",
            "Train Epoch:  1, (70%), Loss: 0.98033\n",
            "Train Epoch:  1, (94%), Loss: 0.92704\n",
            "\n",
            "Test loss: 1.081, Accuracy:  274/ 343 (79.88%)\n",
            "Train Epoch:  2, ( 0%), Loss: 0.88883\n",
            "Train Epoch:  2, (23%), Loss: 0.88613\n",
            "Train Epoch:  2, (47%), Loss: 0.79501\n",
            "Train Epoch:  2, (70%), Loss: 0.76813\n",
            "Train Epoch:  2, (94%), Loss: 0.70150\n",
            "\n",
            "Test loss: 1.012, Accuracy:  274/ 343 (79.88%)\n",
            "Train Epoch:  3, ( 0%), Loss: 0.66101\n",
            "Train Epoch:  3, (23%), Loss: 0.54571\n",
            "Train Epoch:  3, (47%), Loss: 0.57971\n",
            "Train Epoch:  3, (70%), Loss: 0.57726\n",
            "Train Epoch:  3, (94%), Loss: 0.47198\n",
            "\n",
            "Test loss: 0.804, Accuracy:  292/ 343 (85.13%)\n",
            "Train Epoch:  4, ( 0%), Loss: 0.39937\n",
            "Train Epoch:  4, (23%), Loss: 0.35647\n",
            "Train Epoch:  4, (47%), Loss: 0.38865\n",
            "Train Epoch:  4, (70%), Loss: 0.39747\n",
            "Train Epoch:  4, (94%), Loss: 0.35878\n",
            "\n",
            "Test loss: 0.421, Accuracy:  316/ 343 (92.13%)\n",
            "Train Epoch:  5, ( 0%), Loss: 0.24189\n",
            "Train Epoch:  5, (23%), Loss: 0.20737\n",
            "Train Epoch:  5, (47%), Loss: 0.21588\n",
            "Train Epoch:  5, (70%), Loss: 0.55895\n",
            "Train Epoch:  5, (94%), Loss: 0.15621\n",
            "\n",
            "Test loss: 0.275, Accuracy:  318/ 343 (92.71%)\n",
            "Train Epoch:  6, ( 0%), Loss: 0.22271\n",
            "Train Epoch:  6, (23%), Loss: 0.17521\n",
            "Train Epoch:  6, (47%), Loss: 0.27030\n",
            "Train Epoch:  6, (70%), Loss: 0.23248\n",
            "Train Epoch:  6, (94%), Loss: 0.36521\n",
            "\n",
            "Test loss: 0.268, Accuracy:  314/ 343 (91.55%)\n",
            "Train Epoch:  7, ( 0%), Loss: 0.17687\n",
            "Train Epoch:  7, (23%), Loss: 0.19645\n",
            "Train Epoch:  7, (47%), Loss: 0.15609\n",
            "Train Epoch:  7, (70%), Loss: 0.16467\n",
            "Train Epoch:  7, (94%), Loss: 0.14155\n",
            "\n",
            "Test loss: 0.299, Accuracy:  310/ 343 (90.38%)\n",
            "Train Epoch:  8, ( 0%), Loss: 0.19832\n",
            "Train Epoch:  8, (23%), Loss: 0.12799\n",
            "Train Epoch:  8, (47%), Loss: 0.14202\n",
            "Train Epoch:  8, (70%), Loss: 0.26612\n",
            "Train Epoch:  8, (94%), Loss: 0.16198\n",
            "\n",
            "Test loss: 0.370, Accuracy:  308/ 343 (89.80%)\n",
            "Train Epoch:  9, ( 0%), Loss: 0.07040\n",
            "Train Epoch:  9, (23%), Loss: 0.16734\n",
            "Train Epoch:  9, (47%), Loss: 0.24465\n",
            "Train Epoch:  9, (70%), Loss: 0.13542\n",
            "Train Epoch:  9, (94%), Loss: 0.11501\n",
            "\n",
            "Test loss: 0.237, Accuracy:  317/ 343 (92.42%)\n",
            "Train Epoch: 10, ( 0%), Loss: 0.15294\n",
            "Train Epoch: 10, (23%), Loss: 0.19703\n",
            "Train Epoch: 10, (47%), Loss: 0.05287\n",
            "Train Epoch: 10, (70%), Loss: 0.06493\n",
            "Train Epoch: 10, (94%), Loss: 0.12154\n",
            "\n",
            "Test loss: 0.152, Accuracy:  329/ 343 (95.92%)\n"
          ],
          "name": "stdout"
        }
      ]
    },
    {
      "cell_type": "code",
      "metadata": {
        "id": "kArPLVVQ7QZz"
      },
      "source": [
        "torch.save(klasifikacija.state_dict(), './klasifikacija.pth')"
      ],
      "execution_count": 72,
      "outputs": []
    },
    {
      "cell_type": "markdown",
      "metadata": {
        "id": "KYmoYHdpP0y9"
      },
      "source": [
        "Vizualizacija treninga"
      ]
    },
    {
      "cell_type": "code",
      "metadata": {
        "id": "zomBFYK2mJUS"
      },
      "source": [
        "import matplotlib.pyplot as plt\n",
        "\n",
        "counter = np.array(counter).flatten()\n",
        "train_loss = np.array(train_loss).flatten()\n"
      ],
      "execution_count": 54,
      "outputs": []
    },
    {
      "cell_type": "code",
      "metadata": {
        "colab": {
          "base_uri": "https://localhost:8080/",
          "height": 424
        },
        "id": "F4GbOxaJPzsx",
        "outputId": "53668c96-27d2-45c7-cdfc-ae1d81928228"
      },
      "source": [
        "plt.figure(figsize=(19, 6))\n",
        "\n",
        "plt.plot(counter, train_loss)\n",
        "\n",
        "plt.legend()\n",
        "plt.grid()\n",
        "plt.ylabel(\"Train loss\")\n",
        "plt.xlabel(\"Steps\")"
      ],
      "execution_count": 55,
      "outputs": [
        {
          "output_type": "stream",
          "text": [
            "No handles with labels found to put in legend.\n"
          ],
          "name": "stderr"
        },
        {
          "output_type": "execute_result",
          "data": {
            "text/plain": [
              "Text(0.5, 0, 'Steps')"
            ]
          },
          "metadata": {
            "tags": []
          },
          "execution_count": 55
        },
        {
          "output_type": "display_data",
          "data": {
            "image/png": "[encoded data removed]",
            "text/plain": [
              "<Figure size 1368x432 with 1 Axes>"
            ]
          },
          "metadata": {
            "tags": [],
            "needs_background": "light"
          }
        }
      ]
    },
    {
      "cell_type": "code",
      "metadata": {
        "colab": {
          "base_uri": "https://localhost:8080/",
          "height": 424
        },
        "id": "CBlIxJNm0U0c",
        "outputId": "20945996-ab31-4ef8-b23c-92a989fa720b"
      },
      "source": [
        "test_acc = np.array(test_acc).flatten()\n",
        "plt.figure(figsize=(19, 6))\n",
        "\n",
        "plt.plot(counter[1::5], test_acc[1:])\n",
        "\n",
        "plt.legend()\n",
        "plt.grid()\n",
        "plt.ylabel(\"Test accuracy\")\n",
        "plt.xlabel(\"Steps\")"
      ],
      "execution_count": 56,
      "outputs": [
        {
          "output_type": "stream",
          "text": [
            "No handles with labels found to put in legend.\n"
          ],
          "name": "stderr"
        },
        {
          "output_type": "execute_result",
          "data": {
            "text/plain": [
              "Text(0.5, 0, 'Steps')"
            ]
          },
          "metadata": {
            "tags": []
          },
          "execution_count": 56
        },
        {
          "output_type": "display_data",
          "data": {
            "image/png": "[encoded data removed]",
            "text/plain": [
              "<Figure size 1368x432 with 1 Axes>"
            ]
          },
          "metadata": {
            "tags": [],
            "needs_background": "light"
          }
        }
      ]
    },
    {
      "cell_type": "code",
      "metadata": {
        "colab": {
          "base_uri": "https://localhost:8080/"
        },
        "id": "7rrSnosewdFy",
        "outputId": "0c484871-b195-4a12-dfa9-bf52b05601b9"
      },
      "source": [
        "confusion_matrix = torch.zeros(3, 3)\n",
        "with torch.no_grad():\n",
        "    for i, (inputs, classes) in enumerate(test_loader_cls):\n",
        "        inputs = inputs.to(device)\n",
        "        classes = classes.to(device)\n",
        "        outputs = klasifikacija(inputs)\n",
        "        _, preds = torch.max(outputs, 1)\n",
        "        for t, p in zip(classes.view(-1), preds.view(-1)):\n",
        "                confusion_matrix[t.long(), p.long()] += 1\n",
        "\n",
        "print(cats)\n",
        "print(confusion_matrix)"
      ],
      "execution_count": 76,
      "outputs": [
        {
          "output_type": "stream",
          "text": [
            "['in' 'out-day' 'out-night']\n",
            "tensor([[ 51.,   8.,   1.],\n",
            "        [  3., 271.,   0.],\n",
            "        [  2.,   0.,   7.]])\n"
          ],
          "name": "stdout"
        }
      ]
    },
    {
      "cell_type": "markdown",
      "metadata": {
        "id": "DSOsMhNq0Enm"
      },
      "source": [
        "# Procjena osvjetljenja"
      ]
    },
    {
      "cell_type": "markdown",
      "metadata": {
        "id": "ON7JR4yOvKoH"
      },
      "source": [
        "Kreiranje modela za procjenu osvjetljenja"
      ]
    },
    {
      "cell_type": "code",
      "metadata": {
        "id": "Pa9Tquvp0URW"
      },
      "source": [
        "class Net(nn.Module):\n",
        "  def __init__(self, klas):\n",
        "    super(Net, self).__init__()\n",
        "\n",
        "    self.klas = klas\n",
        "\n",
        "    self.conv1 = nn.Conv2d(3, 16, kernel_size=5)\n",
        "    self.conv2 = nn.Conv2d(16, 32, kernel_size=5)\n",
        "    self.conv3 = nn.Conv2d(32, 64, kernel_size=5)\n",
        "\n",
        "    self.fc1 = nn.Linear(5376, 800)\n",
        "    self.fc2 = nn.Linear(800, 400)\n",
        "    self.fc3 = nn.Linear(400, 50)\n",
        "    self.fc4 = nn.Linear(50 + 3, 3)\n",
        "\n",
        "    self.batch = nn.BatchNorm1d(800)\n",
        "    \n",
        "    self.maxpool = nn.MaxPool2d(kernel_size=2)\n",
        "    self.relu = nn.ReLU(inplace=True)\n",
        "\n",
        "  def forward(self, x):\n",
        "    self.klas.eval()\n",
        "    k = None\n",
        "    with torch.no_grad():\n",
        "        k = self.klas(x)\n",
        "\n",
        "    x = self.conv1(x)\n",
        "    x = self.relu(x)\n",
        "    x = self.maxpool(x)\n",
        "\n",
        "    x = self.conv2(x)\n",
        "    x = self.relu(x)\n",
        "    x = self.maxpool(x)\n",
        "\n",
        "    x = self.conv3(x)\n",
        "    x = self.relu(x)\n",
        "    x = self.maxpool(x)\n",
        "\n",
        "    x = x.view(-1, 5376)\n",
        "    x = self.fc1(x)\n",
        "    x = self.relu(x)\n",
        "\n",
        "    x = self.batch(x)\n",
        "\n",
        "    x = self.fc2(x)\n",
        "    x = self.relu(x)\n",
        "\n",
        "    x = self.fc3(x)\n",
        "    x = self.relu(x)\n",
        "\n",
        "    x1 = x.view(x.size(0), -1)\n",
        "    x2 = k.view(k.size(0), -1)\n",
        "    \n",
        "    x = torch.cat((x1, x2), dim=1)\n",
        "\n",
        "    x = self.fc4(x)\n",
        "    x = self.relu(x)\n",
        "\n",
        "    return x"
      ],
      "execution_count": 73,
      "outputs": []
    },
    {
      "cell_type": "code",
      "metadata": {
        "id": "R1vxyfMHwKVI"
      },
      "source": [
        "n_epochs = 10\n",
        "learning_rate = 0.00005\n",
        "device = 'cpu'"
      ],
      "execution_count": 59,
      "outputs": []
    },
    {
      "cell_type": "markdown",
      "metadata": {
        "id": "anUifIrpvP5p"
      },
      "source": [
        "Funkcije za treniranje"
      ]
    },
    {
      "cell_type": "code",
      "metadata": {
        "id": "PJHxHFu-vUiq"
      },
      "source": [
        "def train_step_gt(network, train_data, epoch, device):\n",
        "  losses = []\n",
        "  counter = []\n",
        "\n",
        "  network.train()\n",
        "  for idx, (data, target) in enumerate(train_data):\n",
        "    data = data.to(device)\n",
        "    target = target.to(device)\n",
        "\n",
        "    network.zero_grad()\n",
        "    output = network(data)\n",
        "    loss = F.mse_loss(output, target)\n",
        "    loss.backward()\n",
        "    optimizer.step()\n",
        "\n",
        "    if idx % 5 == 0:\n",
        "      print('Train Epoch: {:2d}, ({:2.0f}%), Loss: {:.5f}'.format(\n",
        "          epoch, 100*idx*64/len(train_data.dataset), loss\n",
        "      ))\n",
        "      losses.append(loss)\n",
        "      counter.append(idx*64 + (epoch-1)*len(train_data.dataset))\n",
        "\n",
        "  return losses, counter"
      ],
      "execution_count": 60,
      "outputs": []
    },
    {
      "cell_type": "code",
      "metadata": {
        "id": "yS3ZR8l8vfQL"
      },
      "source": [
        "def test_gt(network, test_data, device):\n",
        "  network.eval()\n",
        "\n",
        "  loss = 0\n",
        "  correct = 0\n",
        "  with torch.no_grad():\n",
        "    for data, target in test_data:\n",
        "      data = data.to(device)\n",
        "      target = target.to(device)\n",
        "\n",
        "      output = network(data)\n",
        "      loss += F.mse_loss(output, target, reduction=\"sum\").item()\n",
        "      prediction = output.data.max(1, keepdim=True)[1]\n",
        "\n",
        "  loss /= len(test_data.dataset)\n",
        "\n",
        "  print('\\nTest loss: {:.3f}'.format(\n",
        "      loss\n",
        "  ))\n",
        "\n",
        "  return loss"
      ],
      "execution_count": 61,
      "outputs": []
    },
    {
      "cell_type": "code",
      "metadata": {
        "id": "2ZcisoyXvyfp"
      },
      "source": [
        "def train_gt(network, train_data, test_data, device='cuda'):\n",
        "  test_loss = []\n",
        "  train_loss = []\n",
        "  counter = []\n",
        "\n",
        "  # testiramo pocetni model\n",
        "  loss_t = test_gt(network, test_data, device)\n",
        "  test_loss.append(loss_t)\n",
        "\n",
        "  for epoch in range(1, n_epochs+1):\n",
        "    # korak i test\n",
        "    loss, cnt = train_step_gt(network, train_data, epoch, device)\n",
        "    loss_t = test_gt(network, test_data, device)\n",
        "\n",
        "    test_loss.append(loss_t)\n",
        "    train_loss.append(loss)\n",
        "    counter.append(cnt)\n",
        "\n",
        "  return test_loss, train_loss, counter"
      ],
      "execution_count": 62,
      "outputs": []
    },
    {
      "cell_type": "code",
      "metadata": {
        "id": "86udQNUswEYF"
      },
      "source": [
        "procjena = Net(klasifikacija).to(device)\n",
        "optimizer = optim.Adam(procjena.parameters(), lr=learning_rate)"
      ],
      "execution_count": 74,
      "outputs": []
    },
    {
      "cell_type": "code",
      "metadata": {
        "colab": {
          "base_uri": "https://localhost:8080/"
        },
        "id": "WNyAYQmHwRqC",
        "outputId": "03a722ef-f280-449f-d1f6-8ea701daa098"
      },
      "source": [
        "test_loss, train_loss, counter = train_gt(procjena, train_loader_gt, test_loader_gt, device)"
      ],
      "execution_count": 75,
      "outputs": [
        {
          "output_type": "stream",
          "text": [
            "\n",
            "Test loss: 0.310\n",
            "Train Epoch:  1, ( 0%), Loss: 0.10117\n",
            "Train Epoch:  1, (23%), Loss: 0.10081\n",
            "Train Epoch:  1, (47%), Loss: 0.10026\n",
            "Train Epoch:  1, (70%), Loss: 0.09367\n",
            "Train Epoch:  1, (94%), Loss: 0.09289\n",
            "\n",
            "Test loss: 0.305\n",
            "Train Epoch:  2, ( 0%), Loss: 0.08866\n",
            "Train Epoch:  2, (23%), Loss: 0.09182\n",
            "Train Epoch:  2, (47%), Loss: 0.08910\n",
            "Train Epoch:  2, (70%), Loss: 0.08264\n",
            "Train Epoch:  2, (94%), Loss: 0.07352\n",
            "\n",
            "Test loss: 0.299\n",
            "Train Epoch:  3, ( 0%), Loss: 0.07493\n",
            "Train Epoch:  3, (23%), Loss: 0.05853\n",
            "Train Epoch:  3, (47%), Loss: 0.06012\n",
            "Train Epoch:  3, (70%), Loss: 0.06796\n",
            "Train Epoch:  3, (94%), Loss: 0.04689\n",
            "\n",
            "Test loss: 0.245\n",
            "Train Epoch:  4, ( 0%), Loss: 0.04475\n",
            "Train Epoch:  4, (23%), Loss: 0.05697\n",
            "Train Epoch:  4, (47%), Loss: 0.04926\n",
            "Train Epoch:  4, (70%), Loss: 0.03774\n",
            "Train Epoch:  4, (94%), Loss: 0.06961\n",
            "\n",
            "Test loss: 0.124\n",
            "Train Epoch:  5, ( 0%), Loss: 0.03412\n",
            "Train Epoch:  5, (23%), Loss: 0.02926\n",
            "Train Epoch:  5, (47%), Loss: 0.02742\n",
            "Train Epoch:  5, (70%), Loss: 0.04837\n",
            "Train Epoch:  5, (94%), Loss: 0.02648\n",
            "\n",
            "Test loss: 0.117\n",
            "Train Epoch:  6, ( 0%), Loss: 0.02656\n",
            "Train Epoch:  6, (23%), Loss: 0.02530\n",
            "Train Epoch:  6, (47%), Loss: 0.02290\n",
            "Train Epoch:  6, (70%), Loss: 0.02639\n",
            "Train Epoch:  6, (94%), Loss: 0.01553\n",
            "\n",
            "Test loss: 0.043\n",
            "Train Epoch:  7, ( 0%), Loss: 0.02801\n",
            "Train Epoch:  7, (23%), Loss: 0.02986\n",
            "Train Epoch:  7, (47%), Loss: 0.05546\n",
            "Train Epoch:  7, (70%), Loss: 0.01463\n",
            "Train Epoch:  7, (94%), Loss: 0.01239\n",
            "\n",
            "Test loss: 0.033\n",
            "Train Epoch:  8, ( 0%), Loss: 0.01080\n",
            "Train Epoch:  8, (23%), Loss: 0.00789\n",
            "Train Epoch:  8, (47%), Loss: 0.00867\n",
            "Train Epoch:  8, (70%), Loss: 0.01527\n",
            "Train Epoch:  8, (94%), Loss: 0.01733\n",
            "\n",
            "Test loss: 0.037\n",
            "Train Epoch:  9, ( 0%), Loss: 0.00477\n",
            "Train Epoch:  9, (23%), Loss: 0.00565\n",
            "Train Epoch:  9, (47%), Loss: 0.00995\n",
            "Train Epoch:  9, (70%), Loss: 0.00676\n",
            "Train Epoch:  9, (94%), Loss: 0.00832\n",
            "\n",
            "Test loss: 0.038\n",
            "Train Epoch: 10, ( 0%), Loss: 0.01035\n",
            "Train Epoch: 10, (23%), Loss: 0.00747\n",
            "Train Epoch: 10, (47%), Loss: 0.00821\n",
            "Train Epoch: 10, (70%), Loss: 0.01162\n",
            "Train Epoch: 10, (94%), Loss: 0.00652\n",
            "\n",
            "Test loss: 0.027\n"
          ],
          "name": "stdout"
        }
      ]
    },
    {
      "cell_type": "code",
      "metadata": {
        "id": "c-7s2vvd8wEk"
      },
      "source": [
        "torch.save(procjena.state_dict(), './procjena.pth')"
      ],
      "execution_count": 77,
      "outputs": []
    },
    {
      "cell_type": "code",
      "metadata": {
        "colab": {
          "base_uri": "https://localhost:8080/",
          "height": 424
        },
        "id": "mLVxDlNKwXwO",
        "outputId": "0c70e9b7-510d-4879-cd87-595b8efa289a"
      },
      "source": [
        "counter = np.array(counter).flatten()\n",
        "train_loss = np.array(train_loss).flatten()\n",
        "\n",
        "plt.figure(figsize=(19, 6))\n",
        "\n",
        "plt.plot(counter, train_loss)\n",
        "\n",
        "plt.legend()\n",
        "plt.grid()\n",
        "plt.ylabel(\"Train loss\")\n",
        "plt.xlabel(\"Steps\")"
      ],
      "execution_count": 65,
      "outputs": [
        {
          "output_type": "stream",
          "text": [
            "No handles with labels found to put in legend.\n"
          ],
          "name": "stderr"
        },
        {
          "output_type": "execute_result",
          "data": {
            "text/plain": [
              "Text(0.5, 0, 'Steps')"
            ]
          },
          "metadata": {
            "tags": []
          },
          "execution_count": 65
        },
        {
          "output_type": "display_data",
          "data": {
            "image/png": "[encoded data removed]",
            "text/plain": [
              "<Figure size 1368x432 with 1 Axes>"
            ]
          },
          "metadata": {
            "tags": [],
            "needs_background": "light"
          }
        }
      ]
    }
  ]
}